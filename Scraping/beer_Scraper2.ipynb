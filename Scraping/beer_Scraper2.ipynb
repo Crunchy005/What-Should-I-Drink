{
 "cells": [
  {
   "cell_type": "code",
   "execution_count": 104,
   "metadata": {},
   "outputs": [],
   "source": [
    "import pandas as pd\n",
    "import requests\n",
    "from bs4 import BeautifulSoup\n",
    "from selenium import webdriver\n",
    "from time import sleep\n",
    "import re\n",
    "\n",
    "driver = webdriver.Chrome(executable_path=r\"C:\\Users\\Mark\\Anaconda3\\selenium\\webdriver\\chrome\\chromedriver.exe\")"
   ]
  },
  {
   "cell_type": "code",
   "execution_count": 105,
   "metadata": {},
   "outputs": [],
   "source": [
    "driver.get('https://www.beeradvocate.com/lists/popular/')"
   ]
  },
  {
   "cell_type": "code",
   "execution_count": 106,
   "metadata": {},
   "outputs": [],
   "source": [
    "beer_html = driver.page_source\n",
    "beer_soup = BeautifulSoup(beer_html, 'lxml')"
   ]
  },
  {
   "cell_type": "code",
   "execution_count": 107,
   "metadata": {},
   "outputs": [
    {
     "data": {
      "text/html": [
       "<div>\n",
       "<style>\n",
       "    .dataframe thead tr:only-child th {\n",
       "        text-align: right;\n",
       "    }\n",
       "\n",
       "    .dataframe thead th {\n",
       "        text-align: left;\n",
       "    }\n",
       "\n",
       "    .dataframe tbody tr th {\n",
       "        vertical-align: top;\n",
       "    }\n",
       "</style>\n",
       "<table border=\"1\" class=\"dataframe\">\n",
       "  <thead>\n",
       "    <tr style=\"text-align: right;\">\n",
       "      <th></th>\n",
       "      <th>name</th>\n",
       "      <th>url</th>\n",
       "      <th>score</th>\n",
       "      <th>ratings</th>\n",
       "    </tr>\n",
       "  </thead>\n",
       "  <tbody>\n",
       "    <tr>\n",
       "      <th>1</th>\n",
       "      <td>Breakfast Stout</td>\n",
       "      <td>/beer/profile/1199/11757/</td>\n",
       "      <td>4.51</td>\n",
       "      <td>16,948</td>\n",
       "    </tr>\n",
       "    <tr>\n",
       "      <th>2</th>\n",
       "      <td>90 Minute IPA</td>\n",
       "      <td>/beer/profile/64/2093/</td>\n",
       "      <td>4.27</td>\n",
       "      <td>15,782</td>\n",
       "    </tr>\n",
       "  </tbody>\n",
       "</table>\n",
       "</div>"
      ],
      "text/plain": [
       "              name                        url score ratings\n",
       "1  Breakfast Stout  /beer/profile/1199/11757/  4.51  16,948\n",
       "2    90 Minute IPA     /beer/profile/64/2093/  4.27  15,782"
      ]
     },
     "execution_count": 107,
     "metadata": {},
     "output_type": "execute_result"
    }
   ],
   "source": [
    "# name and url\n",
    "beer_list = []\n",
    "for i in beer_soup.find_all('td', {'valign': 'middle'})[4:]:\n",
    "    beer_dict = {}\n",
    "    beer_dict['name'] = i.find('a').text\n",
    "    beer_dict['url'] = i.find('a').attrs['href']\n",
    "    beer_list.append(beer_dict)\n",
    "\n",
    "df_beer = pd.DataFrame(beer_list)\n",
    "df_beer.index += 1\n",
    "\n",
    "# score\n",
    "beer_score = []\n",
    "for i in beer_soup.find_all('td', {'class': 'hr_bottom_light', 'align':'left', 'valign':'top'}):\n",
    "    beer_score.append(i.text)\n",
    "df_beer['score'] = beer_score\n",
    "\n",
    "# ratings count\n",
    "beer_ratings = []\n",
    "for i in beer_soup.find_all('td', {'class': 'hr_bottom_light', 'align':'right'}):\n",
    "    beer_ratings.append(i.text)\n",
    "df_beer['ratings'] = beer_ratings\n",
    "\n",
    "df_beer.head(2)"
   ]
  },
  {
   "cell_type": "markdown",
   "metadata": {},
   "source": [
    "### Info and Review on the beer"
   ]
  },
  {
   "cell_type": "code",
   "execution_count": 108,
   "metadata": {},
   "outputs": [],
   "source": [
    "beer_resr = requests.get('https://www.beeradvocate.com/beer/profile/1199/11757/')\n",
    "beer_soupr = BeautifulSoup(beer_resr.content, 'lxml')"
   ]
  },
  {
   "cell_type": "code",
   "execution_count": 109,
   "metadata": {},
   "outputs": [
    {
     "data": {
      "text/plain": [
       "['Founders Brewing Company']"
      ]
     },
     "execution_count": 109,
     "metadata": {},
     "output_type": "execute_result"
    }
   ],
   "source": [
    "brewery_list = []\n",
    "for i in beer_soupr.find_all('div', {'id':'info_box'}):\n",
    "    brewery_list.append(i.find('a').text)\n",
    "\n",
    "brewery_list"
   ]
  },
  {
   "cell_type": "code",
   "execution_count": 110,
   "metadata": {},
   "outputs": [],
   "source": [
    "beer_text = beer_soupr.find('div', {'id':'info_box'}).text"
   ]
  },
  {
   "cell_type": "code",
   "execution_count": 155,
   "metadata": {},
   "outputs": [],
   "source": [
    "abv_grabber = lambda x: re.search('\\(ABV\\): (\\d+\\.\\d+)%', x).group(1)\n",
    "notes_grabber = lambda x: re.search('Description:[\\s\\S]+ IBU', x).group(0)\n",
    "ibu_grabber = lambda x: re.search('(\\d*) IBU', x).group(1)\n",
    "\n",
    "def notes_cleaner(string):\n",
    "    x = notes_grabber(string)\n",
    "    x = re.sub('\\s', ' ', x)\n",
    "    x = re.sub('\\d* IBU', '', x)\n",
    "    x = re.sub('Availability:', '', x)\n",
    "    x = re.sub('Description:', '', x)\n",
    "    return x"
   ]
  },
  {
   "cell_type": "code",
   "execution_count": 149,
   "metadata": {},
   "outputs": [
    {
     "data": {
      "text/plain": [
       "'\\n\\nBEER INFO\\n\\nBrewed by:\\n\\nFounders Brewing Company\\nMichigan, United Statesfoundersbrewing.com \\nStyle: American Double / Imperial Stout\\n\\nAlcohol by volume (ABV): 8.30%\\n\\t\\t\\nAvailability: Rotating\\n\\t\\t\\nNotes / Commercial Description:\\n\\n\\t\\tAvailability: Sep - Dec\\n\\r\\nBrewed with flaked oats, bitter and sweetened imported chocolates, Sumatra and Kona coffee.\\n\\r\\n60 IBUAdded by marburg on 07-26-2003 '"
      ]
     },
     "execution_count": 149,
     "metadata": {},
     "output_type": "execute_result"
    }
   ],
   "source": [
    "beer_text"
   ]
  },
  {
   "cell_type": "code",
   "execution_count": 150,
   "metadata": {},
   "outputs": [
    {
     "data": {
      "text/plain": [
       "'8.30'"
      ]
     },
     "execution_count": 150,
     "metadata": {},
     "output_type": "execute_result"
    }
   ],
   "source": [
    "abv_grabber(beer_text)"
   ]
  },
  {
   "cell_type": "code",
   "execution_count": 151,
   "metadata": {},
   "outputs": [
    {
     "data": {
      "text/plain": [
       "'     Sep - Dec   Brewed with flaked oats, bitter and sweetened imported chocolates, Sumatra and Kona coffee.   '"
      ]
     },
     "execution_count": 151,
     "metadata": {},
     "output_type": "execute_result"
    }
   ],
   "source": [
    "notes_cleaner(notes_grabber(beer_text))"
   ]
  },
  {
   "cell_type": "code",
   "execution_count": 156,
   "metadata": {},
   "outputs": [
    {
     "data": {
      "text/plain": [
       "'60'"
      ]
     },
     "execution_count": 156,
     "metadata": {},
     "output_type": "execute_result"
    }
   ],
   "source": [
    "ibu_grabber(beer_text)"
   ]
  },
  {
   "cell_type": "code",
   "execution_count": null,
   "metadata": {},
   "outputs": [],
   "source": [
    "# grab IBU\n",
    "\\d* IBU"
   ]
  },
  {
   "cell_type": "code",
   "execution_count": null,
   "metadata": {},
   "outputs": [],
   "source": []
  },
  {
   "cell_type": "code",
   "execution_count": null,
   "metadata": {},
   "outputs": [],
   "source": []
  },
  {
   "cell_type": "code",
   "execution_count": null,
   "metadata": {},
   "outputs": [],
   "source": []
  },
  {
   "cell_type": "code",
   "execution_count": null,
   "metadata": {},
   "outputs": [],
   "source": []
  },
  {
   "cell_type": "markdown",
   "metadata": {},
   "source": [
    "#### Test on a second beer"
   ]
  },
  {
   "cell_type": "code",
   "execution_count": 51,
   "metadata": {},
   "outputs": [],
   "source": [
    "# beer_resr2 = requests.get('https://www.beeradvocate.com/beer/profile/64/2093/')\n",
    "# beer_soupr2 = BeautifulSoup(beer_resr2.content, 'lxml')"
   ]
  },
  {
   "cell_type": "code",
   "execution_count": 123,
   "metadata": {},
   "outputs": [],
   "source": [
    "# for i in beer_soupr2.find_all('div', {'id':'info_box'}):\n",
    "#     print(i.find('a').text)"
   ]
  },
  {
   "cell_type": "code",
   "execution_count": 124,
   "metadata": {},
   "outputs": [],
   "source": [
    "# beer_text2 = beer_soupr2.find('div', {'id':'info_box'}).text"
   ]
  },
  {
   "cell_type": "code",
   "execution_count": 125,
   "metadata": {},
   "outputs": [],
   "source": [
    "# beer_text2"
   ]
  },
  {
   "cell_type": "code",
   "execution_count": 126,
   "metadata": {},
   "outputs": [],
   "source": [
    "# abv_grabber(beer_text2)"
   ]
  },
  {
   "cell_type": "code",
   "execution_count": 127,
   "metadata": {},
   "outputs": [],
   "source": [
    "# notes_cleaner(notes_grabber(beer_text2))"
   ]
  },
  {
   "cell_type": "code",
   "execution_count": null,
   "metadata": {},
   "outputs": [],
   "source": []
  },
  {
   "cell_type": "code",
   "execution_count": null,
   "metadata": {},
   "outputs": [],
   "source": []
  },
  {
   "cell_type": "markdown",
   "metadata": {},
   "source": [
    "### Beer Reviews"
   ]
  },
  {
   "cell_type": "code",
   "execution_count": 115,
   "metadata": {},
   "outputs": [],
   "source": [
    "driver.get('https://www.beeradvocate.com/beer/profile/64/2093/')"
   ]
  },
  {
   "cell_type": "code",
   "execution_count": 116,
   "metadata": {},
   "outputs": [],
   "source": [
    "reviews_html = driver.page_source\n",
    "reviews_soup = BeautifulSoup(reviews_html, 'lxml')"
   ]
  },
  {
   "cell_type": "code",
   "execution_count": null,
   "metadata": {},
   "outputs": [],
   "source": []
  },
  {
   "cell_type": "code",
   "execution_count": null,
   "metadata": {},
   "outputs": [],
   "source": [
    "# User score -- span | class = BAscore_norm\n",
    "# Look/Smell/Feel/Taste... -- span | class = muted\n",
    "# Characters -- span | class = muted <-- not using\n",
    "# username -- span | class = muted  &  a href | class = username\n",
    "\n",
    "# the container for all the revies\n",
    "# div id= rating_fullview_container"
   ]
  },
  {
   "cell_type": "code",
   "execution_count": 128,
   "metadata": {},
   "outputs": [],
   "source": [
    "# where reviews are located\n",
    "# reviews_soup.find_all('div', {'id':'rating_fullview_content_2'})"
   ]
  },
  {
   "cell_type": "code",
   "execution_count": 129,
   "metadata": {},
   "outputs": [],
   "source": [
    "# for i in reviews_soup.find_all('div', {'id':'rating_fullview_content_2'}):\n",
    "#     print(i)"
   ]
  },
  {
   "cell_type": "code",
   "execution_count": 135,
   "metadata": {},
   "outputs": [
    {
     "data": {
      "text/plain": [
       "[<div id=\"rating_fullview_content_2\"><span class=\"BAscore_norm\">4.29</span><span class=\"rAvg_norm\">/5</span>  rDev <span style=\"color:#006600;\">+0.5%</span><br/><span class=\"muted\">look: 4.25 | smell: 4 | taste: 4.5 | feel: 4.25 |  overall: 4.25</span><br/><br/><div><span class=\"muted\"><a class=\"username\" href=\"/community/members/derdtheterd.1080390/\">derdtheterd</a>, <a href=\"/beer/profile/64/2093/?ba=derdtheterd#review\">Yesterday at 04:56 AM</a></span></div></div>,\n",
       " <div id=\"rating_fullview_content_2\"><span class=\"BAscore_norm\">4</span><span class=\"rAvg_norm\">/5</span>  rDev <span style=\"color:#990000;\">-6.3%</span><br/><span class=\"muted\">look: 4 | smell: 4 | taste: 4 | feel: 4 |  overall: 4</span><br/><br/><div><span class=\"muted\"><a class=\"username\" href=\"/community/members/jasoncpace.680066/\">Jasoncpace</a>, <a href=\"/beer/profile/64/2093/?ba=Jasoncpace#review\">Sunday at 11:14 PM</a></span></div></div>,\n",
       " <div id=\"rating_fullview_content_2\"><span class=\"BAscore_norm\">4.01</span><span class=\"rAvg_norm\">/5</span>  rDev <span style=\"color:#990000;\">-6.1%</span><br/><span class=\"muted\">look: 4 | smell: 4.25 | taste: 4 | feel: 4 |  overall: 3.75</span><br/><br/><div><span class=\"muted\"><a class=\"username\" href=\"/community/members/bridgtd.1231647/\">Bridgtd</a>, <a href=\"/beer/profile/64/2093/?ba=Bridgtd#review\">Sunday at 11:51 AM</a></span></div></div>,\n",
       " <div id=\"rating_fullview_content_2\"><span class=\"BAscore_norm\">3.74</span><span class=\"rAvg_norm\">/5</span>  rDev <span style=\"color:#990000;\">-12.4%</span><br/><span class=\"muted\">look: 3.5 | smell: 3.25 | taste: 3.75 | feel: 5 |  overall: 3.75</span><br/><br/><div><span class=\"muted\"><a class=\"username\" href=\"/community/members/brentmcquirk.1194424/\">BrentMcQuirk</a>, <a href=\"/beer/profile/64/2093/?ba=BrentMcQuirk#review\">Sunday at 02:31 AM</a></span></div></div>,\n",
       " <div id=\"rating_fullview_content_2\"><span class=\"BAscore_norm\">4.44</span><span class=\"rAvg_norm\">/5</span>  rDev <span style=\"color:#006600;\">+4%</span><br/><span class=\"muted\">look: 4.5 | smell: 4.25 | taste: 4.5 | feel: 4.5 |  overall: 4.5</span><br/><br/><div><span class=\"muted\"><a class=\"username\" href=\"/community/members/bitburger.1177416/\">Bitburger</a>, <a href=\"/beer/profile/64/2093/?ba=Bitburger#review\">Friday at 11:22 PM</a></span></div></div>,\n",
       " <div id=\"rating_fullview_content_2\"><span class=\"BAscore_norm\">4.56</span><span class=\"rAvg_norm\">/5</span>  rDev <span style=\"color:#006600;\">+6.8%</span><br/><span class=\"muted\">look: 4.25 | smell: 4.5 | taste: 4.75 | feel: 4.25 |  overall: 4.5</span><br/><br/>One of the best IPAs I've ever had. Nothing was in excess. Well-rounded flavors, tastes, smells, etc. Love it.<br/><br/><span class=\"muted\">110 characters</span><br/><br/><div><span class=\"muted\"><a class=\"username\" href=\"/community/members/minipiglover.1231484/\">MiniPigLover</a>, <a href=\"/beer/profile/64/2093/?ba=MiniPigLover#review\">Friday at 04:06 PM</a></span></div></div>,\n",
       " <div id=\"rating_fullview_content_2\"><span class=\"BAscore_norm\">4.33</span><span class=\"rAvg_norm\">/5</span>  rDev <span style=\"color:#006600;\">+1.4%</span><br/><span class=\"muted\">look: 4.25 | smell: 4.25 | taste: 4.5 | feel: 4 |  overall: 4.25</span><br/><br/><div><span class=\"muted\"><a class=\"username\" href=\"/community/members/afeo.1215895/\">Afeo</a>, <a href=\"/beer/profile/64/2093/?ba=Afeo#review\">Mar 10, 2018</a></span></div></div>,\n",
       " <div id=\"rating_fullview_content_2\"><span class=\"BAscore_norm\">4.25</span><span class=\"rAvg_norm\">/5</span>  rDev <span style=\"color:#990000;\">-0.5%</span><br/><span class=\"muted\">look: 4.25 | smell: 4.25 | taste: 4.25 | feel: 4.25 |  overall: 4.25</span><br/><br/>Poured from a 12 oz bottle into a tulip<br/>\n",
       " <br/>\n",
       " L:  Nearly clear golden copper pour with a solid 1.5 figners of foamy white head.  Nice lacing.<br/>\n",
       " <br/>\n",
       " S:  Resinous pine, caramel malts.  Aromatic with some floral notes.<br/>\n",
       " <br/>\n",
       " T/F:  Big malt backbone... sweet caramel and toasted grains.  Bitterness follows... evergreen/pine, light fruit, and floral tones.  Complex... slightly earthy. Balanced... light citrus comes through at the finish.  Medium to light bodied.<br/>\n",
       " <br/>\n",
       " O:  A fantastic DIPA that I've had many, many times.  Even as I've gotten more into the New England juice bombs this one never fails to please.  A beer that was ahead of its time and still great today.<br/><br/><svg aria-hidden=\"true\" class=\"svg-inline--fa fa-align-left fa-w-14\" data-fa-i2svg=\"\" data-icon=\"align-left\" data-prefix=\"fas\" role=\"img\" viewbox=\"0 0 448 512\" xmlns=\"http://www.w3.org/2000/svg\"><path d=\"M288 44v40c0 8.837-7.163 16-16 16H16c-8.837 0-16-7.163-16-16V44c0-8.837 7.163-16 16-16h256c8.837 0 16 7.163 16 16zM0 172v40c0 8.837 7.163 16 16 16h416c8.837 0 16-7.163 16-16v-40c0-8.837-7.163-16-16-16H16c-8.837 0-16 7.163-16 16zm16 312h416c8.837 0 16-7.163 16-16v-40c0-8.837-7.163-16-16-16H16c-8.837 0-16 7.163-16 16v40c0 8.837 7.163 16 16 16zm256-200H16c-8.837 0-16 7.163-16 16v40c0 8.837 7.163 16 16 16h256c8.837 0 16-7.163 16-16v-40c0-8.837-7.163-16-16-16z\" fill=\"currentColor\"></path></svg><!-- <i class=\"fas fa-align-left\" \"=\"\"></i> --> <span class=\"muted\">648 characters</span><br/><br/><div><span class=\"muted\"><a class=\"username\" href=\"/community/members/emv.25570/\">EMV</a>, <a href=\"/beer/profile/64/2093/?ba=EMV#review\">Mar 09, 2018</a></span></div></div>,\n",
       " <div id=\"rating_fullview_content_2\"><span class=\"BAscore_norm\">4.64</span><span class=\"rAvg_norm\">/5</span>  rDev <span style=\"color:#006600;\">+8.7%</span><br/><span class=\"muted\">look: 4.25 | smell: 4.5 | taste: 5 | feel: 4 |  overall: 4.5</span><br/><br/><div><span class=\"muted\"><a class=\"username\" href=\"/community/members/rockysasquatch.1082513/\">RockySasquatch</a>, <a href=\"/beer/profile/64/2093/?ba=RockySasquatch#review\">Mar 08, 2018</a></span></div></div>,\n",
       " <div id=\"rating_fullview_content_2\"><span class=\"BAscore_norm\">4.27</span><span class=\"rAvg_norm\">/5</span>  rDev 0%<br/><span class=\"muted\">look: 4 | smell: 4.5 | taste: 4.25 | feel: 4.5 |  overall: 4</span><br/><br/><div><span class=\"muted\"><a class=\"username\" href=\"/community/members/dudiepants.1194009/\">dudiepants</a>, <a href=\"/beer/profile/64/2093/?ba=dudiepants#review\">Mar 05, 2018</a></span></div></div>,\n",
       " <div id=\"rating_fullview_content_2\"><span class=\"BAscore_norm\">4.33</span><span class=\"rAvg_norm\">/5</span>  rDev <span style=\"color:#006600;\">+1.4%</span><br/><span class=\"muted\">look: 4.5 | smell: 4.5 | taste: 4.25 | feel: 4.25 |  overall: 4.25</span><br/><br/>Great beer with a well balance body. Look was sharp amber and clear. Smell was aromatic with a bright and complex hop profile. I personally loved the taste and the feel complimented the body well. Nice malty tone that helped keep the high gravity manageable on the palate. Another great beer from Dogfish.<br/><br/><svg aria-hidden=\"true\" class=\"svg-inline--fa fa-align-left fa-w-14\" data-fa-i2svg=\"\" data-icon=\"align-left\" data-prefix=\"fas\" role=\"img\" viewbox=\"0 0 448 512\" xmlns=\"http://www.w3.org/2000/svg\"><path d=\"M288 44v40c0 8.837-7.163 16-16 16H16c-8.837 0-16-7.163-16-16V44c0-8.837 7.163-16 16-16h256c8.837 0 16 7.163 16 16zM0 172v40c0 8.837 7.163 16 16 16h416c8.837 0 16-7.163 16-16v-40c0-8.837-7.163-16-16-16H16c-8.837 0-16 7.163-16 16zm16 312h416c8.837 0 16-7.163 16-16v-40c0-8.837-7.163-16-16-16H16c-8.837 0-16 7.163-16 16v40c0 8.837 7.163 16 16 16zm256-200H16c-8.837 0-16 7.163-16 16v40c0 8.837 7.163 16 16 16h256c8.837 0 16-7.163 16-16v-40c0-8.837-7.163-16-16-16z\" fill=\"currentColor\"></path></svg><!-- <i class=\"fas fa-align-left\" \"=\"\"></i> --> <span class=\"muted\">305 characters</span><br/><br/><div><span class=\"muted\"><a class=\"username\" href=\"/community/members/mittenbreezemd.1227229/\">MittenBreezeMD</a>, <a href=\"/beer/profile/64/2093/?ba=MittenBreezeMD#review\">Mar 03, 2018</a></span></div></div>,\n",
       " <div id=\"rating_fullview_content_2\"><span class=\"BAscore_norm\">3.38</span><span class=\"rAvg_norm\">/5</span>  rDev <span style=\"color:#990000;\">-20.8%</span><br/><span class=\"muted\">look: 3.25 | smell: 3.25 | taste: 3.25 | feel: 4 |  overall: 3.5</span><br/><br/>16oz draft, nicely chilled<br/>\n",
       " Look - solidly Amber but almost clear, not what I look for in an IPA; Smell - moderately hoppy, not much citrus or pine, something I like in an IPA; Taste - sufficient bitterness up front but fades quickly; Feel - crisp and smooth, good drink start to finish, good carbonation. Overall - Lacks in the points I look for, but i’ve Had worse.<br/><br/><svg aria-hidden=\"true\" class=\"svg-inline--fa fa-align-left fa-w-14\" data-fa-i2svg=\"\" data-icon=\"align-left\" data-prefix=\"fas\" role=\"img\" viewbox=\"0 0 448 512\" xmlns=\"http://www.w3.org/2000/svg\"><path d=\"M288 44v40c0 8.837-7.163 16-16 16H16c-8.837 0-16-7.163-16-16V44c0-8.837 7.163-16 16-16h256c8.837 0 16 7.163 16 16zM0 172v40c0 8.837 7.163 16 16 16h416c8.837 0 16-7.163 16-16v-40c0-8.837-7.163-16-16-16H16c-8.837 0-16 7.163-16 16zm16 312h416c8.837 0 16-7.163 16-16v-40c0-8.837-7.163-16-16-16H16c-8.837 0-16 7.163-16 16v40c0 8.837 7.163 16 16 16zm256-200H16c-8.837 0-16 7.163-16 16v40c0 8.837 7.163 16 16 16h256c8.837 0 16-7.163 16-16v-40c0-8.837-7.163-16-16-16z\" fill=\"currentColor\"></path></svg><!-- <i class=\"fas fa-align-left\" \"=\"\"></i> --> <span class=\"muted\">368 characters</span><br/><br/><div><span class=\"muted\"><a class=\"username\" href=\"/community/members/mrmdtighe.1030587/\">mrmdtighe</a>, <a href=\"/beer/profile/64/2093/?ba=mrmdtighe#review\">Mar 02, 2018</a></span></div></div>,\n",
       " <div id=\"rating_fullview_content_2\"><span class=\"BAscore_norm\">4.57</span><span class=\"rAvg_norm\">/5</span>  rDev <span style=\"color:#006600;\">+7%</span><br/><span class=\"muted\">look: 4.25 | smell: 4.75 | taste: 4.5 | feel: 4.75 |  overall: 4.5</span><br/><br/>For me it all started on a snowy day in 2015, I was in a small college town of Monmouth Oregon. Beer was just recently introduced to me by a family friend. Not only did he tell me it would change my life, but it would affect how I did things from here on out. It did change my life, and it started with the 90 minute IPA by Dogfish Head. I was working at a winery at the time, but it was so snowy outside (oregon terms) because of this work was cancelled. I was still able to drive around with four-wheel drive, so I listen to my peers and seeked out a location where I could get my hands on this elusive beer. I purchased a four pack and brought it back to Monmouth. The ensuing hours later provided plenty of entertainment and joy. At this moment when I first put my lips to a 90-minute bottle, I knew what love was. From that moment forward I will never forget the night I fell in love with the pure lifestyle of Craft Brew in general.<br/><br/><svg aria-hidden=\"true\" class=\"svg-inline--fa fa-align-left fa-w-14\" data-fa-i2svg=\"\" data-icon=\"align-left\" data-prefix=\"fas\" role=\"img\" viewbox=\"0 0 448 512\" xmlns=\"http://www.w3.org/2000/svg\"><path d=\"M288 44v40c0 8.837-7.163 16-16 16H16c-8.837 0-16-7.163-16-16V44c0-8.837 7.163-16 16-16h256c8.837 0 16 7.163 16 16zM0 172v40c0 8.837 7.163 16 16 16h416c8.837 0 16-7.163 16-16v-40c0-8.837-7.163-16-16-16H16c-8.837 0-16 7.163-16 16zm16 312h416c8.837 0 16-7.163 16-16v-40c0-8.837-7.163-16-16-16H16c-8.837 0-16 7.163-16 16v40c0 8.837 7.163 16 16 16zm256-200H16c-8.837 0-16 7.163-16 16v40c0 8.837 7.163 16 16 16h256c8.837 0 16-7.163 16-16v-40c0-8.837-7.163-16-16-16z\" fill=\"currentColor\"></path></svg><!-- <i class=\"fas fa-align-left\" \"=\"\"></i> --> <span class=\"muted\">938 characters</span><br/><br/><div><span class=\"muted\"><a class=\"username\" href=\"/community/members/dannypaleales.1169763/\">DannyPaleAles</a>, <a href=\"/beer/profile/64/2093/?ba=DannyPaleAles#review\">Mar 01, 2018</a></span></div></div>,\n",
       " <div id=\"rating_fullview_content_2\"><span class=\"BAscore_norm\">4.15</span><span class=\"rAvg_norm\">/5</span>  rDev <span style=\"color:#990000;\">-2.8%</span><br/><span class=\"muted\">look: 4 | smell: 4 | taste: 4.25 | feel: 4 |  overall: 4.25</span><br/><br/><div><span class=\"muted\"><a class=\"username\" href=\"/community/members/zbelair.736796/\">zbelair</a>, <a href=\"/beer/profile/64/2093/?ba=zbelair#review\">Feb 28, 2018</a></span></div></div>,\n",
       " <div id=\"rating_fullview_content_2\"><span class=\"BAscore_norm\">3.98</span><span class=\"rAvg_norm\">/5</span>  rDev <span style=\"color:#990000;\">-6.8%</span><br/><span class=\"muted\">look: 4 | smell: 4 | taste: 4 | feel: 3.75 |  overall: 4</span><br/><br/>Poured from a bottle on date 12/16/17 into the pint glass<br/>\n",
       " A - Orange blossom honey color, wonderful clarity, small spheres meander top side, a quick pour yields a 1\" white cap<br/>\n",
       " S - Strong malts, some warm bread element, lots of honey and a delightful earthy thread<br/>\n",
       " T - Apricot reduction, some orange rime, green tea, and excellent sweet malt<br/>\n",
       " M - Slick, a full body on this offering, the linger has hints of ginger tea<br/>\n",
       " O - A long overdue review, this offering is exceptional, big, a bit slimy, and full in every aspect<br/><br/><svg aria-hidden=\"true\" class=\"svg-inline--fa fa-align-left fa-w-14\" data-fa-i2svg=\"\" data-icon=\"align-left\" data-prefix=\"fas\" role=\"img\" viewbox=\"0 0 448 512\" xmlns=\"http://www.w3.org/2000/svg\"><path d=\"M288 44v40c0 8.837-7.163 16-16 16H16c-8.837 0-16-7.163-16-16V44c0-8.837 7.163-16 16-16h256c8.837 0 16 7.163 16 16zM0 172v40c0 8.837 7.163 16 16 16h416c8.837 0 16-7.163 16-16v-40c0-8.837-7.163-16-16-16H16c-8.837 0-16 7.163-16 16zm16 312h416c8.837 0 16-7.163 16-16v-40c0-8.837-7.163-16-16-16H16c-8.837 0-16 7.163-16 16v40c0 8.837 7.163 16 16 16zm256-200H16c-8.837 0-16 7.163-16 16v40c0 8.837 7.163 16 16 16h256c8.837 0 16-7.163 16-16v-40c0-8.837-7.163-16-16-16z\" fill=\"currentColor\"></path></svg><!-- <i class=\"fas fa-align-left\" \"=\"\"></i> --> <span class=\"muted\">516 characters</span><br/><br/><div><span class=\"muted\"><a class=\"username\" href=\"/community/members/saberg.158894/\">SABERG</a>, <a href=\"/beer/profile/64/2093/?ba=SABERG#review\">Feb 26, 2018</a></span></div></div>,\n",
       " <div id=\"rating_fullview_content_2\"><span class=\"BAscore_norm\">4.72</span><span class=\"rAvg_norm\">/5</span>  rDev <span style=\"color:#006600;\">+10.5%</span><br/><span class=\"muted\">look: 4.75 | smell: 4.5 | taste: 5 | feel: 4.5 |  overall: 4.5</span><br/><br/>Nice to have something to look forward to, coming home after a long night. Now, I don't typically go for a hoppy beer, particularly one that is hopped like a rabbit on meth. My go to beers are the ones you can't see through, but this came highly recommended by someone whose beer knowledge and opinions I trust implicitly. <br/>\n",
       " <br/>\n",
       " Interestingly, rather than having a sharp, aggressive hoppiness, the DFH 90-Minute IPA is very balanced. Strong beery smell and taste, but the flavor had an amazing citrus zestiness that stays on your tongue. Nice head, deep gold color, good amount of carbonation, and at 9% ABV, I feel a bit woozy. And relaxed.<br/><br/><svg aria-hidden=\"true\" class=\"svg-inline--fa fa-align-left fa-w-14\" data-fa-i2svg=\"\" data-icon=\"align-left\" data-prefix=\"fas\" role=\"img\" viewbox=\"0 0 448 512\" xmlns=\"http://www.w3.org/2000/svg\"><path d=\"M288 44v40c0 8.837-7.163 16-16 16H16c-8.837 0-16-7.163-16-16V44c0-8.837 7.163-16 16-16h256c8.837 0 16 7.163 16 16zM0 172v40c0 8.837 7.163 16 16 16h416c8.837 0 16-7.163 16-16v-40c0-8.837-7.163-16-16-16H16c-8.837 0-16 7.163-16 16zm16 312h416c8.837 0 16-7.163 16-16v-40c0-8.837-7.163-16-16-16H16c-8.837 0-16 7.163-16 16v40c0 8.837 7.163 16 16 16zm256-200H16c-8.837 0-16 7.163-16 16v40c0 8.837 7.163 16 16 16h256c8.837 0 16-7.163 16-16v-40c0-8.837-7.163-16-16-16z\" fill=\"currentColor\"></path></svg><!-- <i class=\"fas fa-align-left\" \"=\"\"></i> --> <span class=\"muted\">637 characters</span><br/><br/><div><span class=\"muted\"><a class=\"username\" href=\"/community/members/sable.1229782/\">Sable</a>, <a href=\"/beer/profile/64/2093/?ba=Sable#review\">Feb 26, 2018</a></span></div></div>,\n",
       " <div id=\"rating_fullview_content_2\"><span class=\"BAscore_norm\">4.14</span><span class=\"rAvg_norm\">/5</span>  rDev <span style=\"color:#990000;\">-3%</span><br/><span class=\"muted\">look: 3.75 | smell: 4 | taste: 4.25 | feel: 4 |  overall: 4.25</span><br/><br/><div><span class=\"muted\"><a class=\"username\" href=\"/community/members/shantto.1219889/\">Shantto</a>, <a href=\"/beer/profile/64/2093/?ba=Shantto#review\">Feb 25, 2018</a></span></div></div>,\n",
       " <div id=\"rating_fullview_content_2\"><span class=\"BAscore_norm\">3.96</span><span class=\"rAvg_norm\">/5</span>  rDev <span style=\"color:#990000;\">-7.3%</span><br/><span class=\"muted\">look: 4 | smell: 4.25 | taste: 3.75 | feel: 4 |  overall: 4</span><br/><br/><div><span class=\"muted\"><a class=\"username\" href=\"/community/members/toddsoonerfan.750190/\">ToddSoonerFan</a>, <a href=\"/beer/profile/64/2093/?ba=ToddSoonerFan#review\">Feb 25, 2018</a></span></div></div>,\n",
       " <div id=\"rating_fullview_content_2\"><span class=\"BAscore_norm\">4.24</span><span class=\"rAvg_norm\">/5</span>  rDev <span style=\"color:#990000;\">-0.7%</span><br/><span class=\"muted\">look: 4 | smell: 4.25 | taste: 4.25 | feel: 4.25 |  overall: 4.25</span><br/><br/>This is a smooth ipa with a punch.<br/>\n",
       " <br/>\n",
       " Have one or two and switch to 60 minute.<br/><br/><span class=\"muted\">76 characters</span><br/><br/><div><span class=\"muted\"><a class=\"username\" href=\"/community/members/wapes.1209313/\">Wapes</a>, <a href=\"/beer/profile/64/2093/?ba=Wapes#review\">Feb 24, 2018</a></span></div></div>,\n",
       " <div id=\"rating_fullview_content_2\"><span class=\"BAscore_norm\">4.03</span><span class=\"rAvg_norm\">/5</span>  rDev <span style=\"color:#990000;\">-5.6%</span><br/><span class=\"muted\">look: 4.5 | smell: 4 | taste: 4 | feel: 4 |  overall: 4</span><br/><br/><div><span class=\"muted\"><a class=\"username\" href=\"/community/members/benhoppy.1217774/\">BenHoppy</a>, <a href=\"/beer/profile/64/2093/?ba=BenHoppy#review\">Feb 24, 2018</a></span></div></div>,\n",
       " <div id=\"rating_fullview_content_2\"><span class=\"BAscore_norm\">4.1</span><span class=\"rAvg_norm\">/5</span>  rDev <span style=\"color:#990000;\">-4%</span><br/><span class=\"muted\">look: 4 | smell: 4 | taste: 4.25 | feel: 4 |  overall: 4</span><br/><br/><div><span class=\"muted\"><a class=\"username\" href=\"/community/members/foxman27.1070836/\">Foxman27</a>, <a href=\"/beer/profile/64/2093/?ba=Foxman27#review\">Feb 22, 2018</a></span></div></div>,\n",
       " <div id=\"rating_fullview_content_2\"><span class=\"BAscore_norm\">4.5</span><span class=\"rAvg_norm\">/5</span>  rDev <span style=\"color:#006600;\">+5.4%</span><br/><span class=\"muted\">look: 4.5 | smell: 4.5 | taste: 4.5 | feel: 4.5 |  overall: 4.5</span><br/><br/><div><span class=\"muted\"><a class=\"username\" href=\"/community/members/cmoore32.810519/\">cmoore32</a>, <a href=\"/beer/profile/64/2093/?ba=cmoore32#review\">Feb 20, 2018</a></span></div></div>,\n",
       " <div id=\"rating_fullview_content_2\"><span class=\"BAscore_norm\">4.27</span><span class=\"rAvg_norm\">/5</span>  rDev 0%<br/><span class=\"muted\">look: 4.5 | smell: 4.25 | taste: 4.25 | feel: 4.25 |  overall: 4.25</span><br/><br/><div><span class=\"muted\"><a class=\"username\" href=\"/community/members/larrysdeergut.1211693/\">LarrysDeerGut</a>, <a href=\"/beer/profile/64/2093/?ba=LarrysDeerGut#review\">Feb 18, 2018</a></span></div></div>,\n",
       " <div id=\"rating_fullview_content_2\"><span class=\"BAscore_norm\">3.83</span><span class=\"rAvg_norm\">/5</span>  rDev <span style=\"color:#990000;\">-10.3%</span><br/><span class=\"muted\">look: 3.75 | smell: 3.75 | taste: 3.75 | feel: 4 |  overall: 4</span><br/><br/><div><span class=\"muted\"><a class=\"username\" href=\"/community/members/vandelay1863.1227011/\">Vandelay1863</a>, <a href=\"/beer/profile/64/2093/?ba=Vandelay1863#review\">Feb 17, 2018</a></span></div></div>,\n",
       " <div id=\"rating_fullview_content_2\"><span class=\"BAscore_norm\">5</span><span class=\"rAvg_norm\">/5</span>  rDev <span style=\"color:#006600;\">+17.1%</span><br/><span class=\"muted\">look: 5 | smell: 5 | taste: 5 | feel: 5 |  overall: 5</span><br/><br/><div><span class=\"muted\"><a class=\"username\" href=\"/community/members/rb3.1227948/\">RB3</a>, <a href=\"/beer/profile/64/2093/?ba=RB3#review\">Feb 17, 2018</a></span></div></div>]"
      ]
     },
     "execution_count": 135,
     "metadata": {},
     "output_type": "execute_result"
    }
   ],
   "source": [
    "reviews_soup.find_all('div', {'id':'rating_fullview_content_2'})"
   ]
  },
  {
   "cell_type": "code",
   "execution_count": 134,
   "metadata": {},
   "outputs": [
    {
     "data": {
      "text/plain": [
       "\"4.56/5\\xa0\\xa0rDev +6.8%look: 4.25 | smell: 4.5 | taste: 4.75 | feel: 4.25 |  overall: 4.5One of the best IPAs I've ever had. Nothing was in excess. Well-rounded flavors, tastes, smells, etc. Love it.110 charactersMiniPigLover, Friday at 04:06 PM\""
      ]
     },
     "execution_count": 134,
     "metadata": {},
     "output_type": "execute_result"
    }
   ],
   "source": [
    "reviews_soup.find_all('div', {'id':'rating_fullview_content_2'})[5].text"
   ]
  },
  {
   "cell_type": "code",
   "execution_count": 130,
   "metadata": {},
   "outputs": [],
   "source": [
    "review_grabber = lambda x: re.search('overall:\\s\\d*\\.\\d(.*\\d* characters)', x).group(1)"
   ]
  },
  {
   "cell_type": "code",
   "execution_count": 131,
   "metadata": {},
   "outputs": [],
   "source": [
    "abc = review_grabber(reviews_soup.find_all('div', {'id':'rating_fullview_content_2'})[5].text)"
   ]
  },
  {
   "cell_type": "code",
   "execution_count": 132,
   "metadata": {},
   "outputs": [
    {
     "data": {
      "text/plain": [
       "\"One of the best IPAs I've ever had. Nothing was in excess. Well-rounded flavors, tastes, smells, etc. Love it.\""
      ]
     },
     "execution_count": 132,
     "metadata": {},
     "output_type": "execute_result"
    }
   ],
   "source": [
    "re.sub('\\d* characters', '', abc)"
   ]
  },
  {
   "cell_type": "code",
   "execution_count": null,
   "metadata": {},
   "outputs": [],
   "source": []
  },
  {
   "cell_type": "code",
   "execution_count": 143,
   "metadata": {},
   "outputs": [
    {
     "data": {
      "text/plain": [
       "\"One of the best IPAs I've ever had. Nothing was in excess. Well-rounded flavors, tastes, smells, etc. Love it.110 characters\""
      ]
     },
     "execution_count": 143,
     "metadata": {},
     "output_type": "execute_result"
    }
   ],
   "source": [
    "review_grabber(reviews_soup.find_all('div', {'id':'rating_fullview_content_2'})[5].text)"
   ]
  },
  {
   "cell_type": "code",
   "execution_count": null,
   "metadata": {},
   "outputs": [],
   "source": [
    "# put into a try/except loop"
   ]
  },
  {
   "cell_type": "code",
   "execution_count": 147,
   "metadata": {},
   "outputs": [
    {
     "name": "stdout",
     "output_type": "stream",
     "text": [
      "No Review\n",
      "No Review\n",
      "No Review\n",
      "No Review\n",
      "One of the best IPAs I've ever had. Nothing was in excess. Well-rounded flavors, tastes, smells, etc. Love it.110 characters\n",
      "No Review\n",
      "No Review\n",
      "No Review\n",
      "No Review\n",
      "5Great beer with a well balance body. Look was sharp amber and clear. Smell was aromatic with a bright and complex hop profile. I personally loved the taste and the feel complimented the body well. Nice malty tone that helped keep the high gravity manageable on the palate. Another great beer from Dogfish. 305 characters\n",
      "No Review\n",
      "For me it all started on a snowy day in 2015, I was in a small college town of Monmouth Oregon. Beer was just recently introduced to me by a family friend. Not only did he tell me it would change my life, but it would affect how I did things from here on out. It did change my life, and it started with the 90 minute IPA by Dogfish Head. I was working at a winery at the time, but it was so snowy outside (oregon terms) because of this work was cancelled. I was still able to drive around with four-wheel drive, so I listen to my peers and seeked out a location where I could get my hands on this elusive beer. I purchased a four pack and brought it back to Monmouth. The ensuing hours later provided plenty of entertainment and joy. At this moment when I first put my lips to a 90-minute bottle, I knew what love was. From that moment forward I will never forget the night I fell in love with the pure lifestyle of Craft Brew in general. 938 characters\n",
      "No Review\n",
      "No Review\n",
      "No Review\n",
      "No Review\n",
      "No Review\n",
      "No Review\n",
      "No Review\n",
      "No Review\n",
      "No Review\n",
      "No Review\n",
      "No Review\n",
      "No Review\n",
      "No Review\n"
     ]
    }
   ],
   "source": [
    "for i in range(1,26):\n",
    "    try:\n",
    "        print(review_grabber(reviews_soup.find_all('div', {'id':'rating_fullview_content_2'})[i].text))\n",
    "    except:\n",
    "        print(\"No Review\")"
   ]
  },
  {
   "cell_type": "code",
   "execution_count": null,
   "metadata": {},
   "outputs": [],
   "source": []
  },
  {
   "cell_type": "code",
   "execution_count": null,
   "metadata": {},
   "outputs": [],
   "source": []
  },
  {
   "cell_type": "code",
   "execution_count": 159,
   "metadata": {},
   "outputs": [],
   "source": [
    "driver = webdriver.Chrome(executable_path=r\"C:\\Users\\Mark\\Anaconda3\\selenium\\webdriver\\chrome\\chromedriver.exe\")\n",
    "driver.get('https://www.beeradvocate.com/beer/profile/1199/11757/?view=beer&sort=&start=0')\n",
    "beer_page = driver.page_source\n",
    "beer_page_soup = BeautifulSoup(beer_page, 'lxml')"
   ]
  },
  {
   "cell_type": "code",
   "execution_count": 173,
   "metadata": {},
   "outputs": [],
   "source": [
    "review_grabber = lambda x: re.search('overall:\\s\\d\\.\\d*(.*[\\s\\S]*\\d characters)', x).group(1)\n",
    "\n",
    "def review_cleaner(string):\n",
    "    x = review_grabber(string)\n",
    "    x = re.sub('\\d* characters', '', x)\n",
    "    x = re.sub('\\n', ' ', x)\n",
    "    return x"
   ]
  },
  {
   "cell_type": "code",
   "execution_count": 174,
   "metadata": {},
   "outputs": [
    {
     "data": {
      "text/plain": [
       "\"poured from the tap of my kegerator into a porter/stout glass  A - 2 fingers medium/dark tan over a body of pitch black; laces the glass in nice rings  S - lots of chocolate, coffee, roasted malts, suggestion of dark fruits  T - chocolate, rich black coffee, hint of dark fruitiness  M - thick full body, medium carbonation  O - I'm glad I bought this by the keg!\\xa0\""
      ]
     },
     "execution_count": 174,
     "metadata": {},
     "output_type": "execute_result"
    }
   ],
   "source": [
    "# review = review_grabber(beer_page_soup.find_all('div', {'id':'rating_fullview_content_2'})[7].text)\n",
    "review_cleaner(beer_page_soup.find_all('div', {'id':'rating_fullview_content_2'})[7].text)"
   ]
  },
  {
   "cell_type": "code",
   "execution_count": null,
   "metadata": {},
   "outputs": [],
   "source": []
  },
  {
   "cell_type": "code",
   "execution_count": null,
   "metadata": {},
   "outputs": [],
   "source": []
  },
  {
   "cell_type": "markdown",
   "metadata": {},
   "source": [
    "#### Grabing all the other stuffs"
   ]
  },
  {
   "cell_type": "code",
   "execution_count": 121,
   "metadata": {},
   "outputs": [],
   "source": [
    "user_score = []\n",
    "score_breakdown = []\n",
    "user_names = []\n",
    "\n",
    "for i in reviews_soup.find_all('div', {'id':'rating_fullview_content_2'}):\n",
    "    user_score.append(i.find('span', {'class': 'BAscore_norm'}).text)\n",
    "    score_breakdown.append(i.find('span', {'class': 'muted'}).text)\n",
    "    user_names.append(i.find('a', {'class':'username'}).text)"
   ]
  },
  {
   "cell_type": "code",
   "execution_count": null,
   "metadata": {},
   "outputs": [],
   "source": []
  },
  {
   "cell_type": "code",
   "execution_count": null,
   "metadata": {},
   "outputs": [],
   "source": []
  },
  {
   "cell_type": "code",
   "execution_count": null,
   "metadata": {},
   "outputs": [],
   "source": []
  },
  {
   "cell_type": "code",
   "execution_count": null,
   "metadata": {},
   "outputs": [],
   "source": []
  }
 ],
 "metadata": {
  "kernelspec": {
   "display_name": "Python 3",
   "language": "python",
   "name": "python3"
  },
  "language_info": {
   "codemirror_mode": {
    "name": "ipython",
    "version": 3
   },
   "file_extension": ".py",
   "mimetype": "text/x-python",
   "name": "python",
   "nbconvert_exporter": "python",
   "pygments_lexer": "ipython3",
   "version": "3.6.3"
  }
 },
 "nbformat": 4,
 "nbformat_minor": 2
}
