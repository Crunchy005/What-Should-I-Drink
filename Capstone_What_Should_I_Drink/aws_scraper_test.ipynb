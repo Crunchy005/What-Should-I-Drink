{
 "cells": [
  {
   "cell_type": "code",
   "execution_count": 1,
   "metadata": {},
   "outputs": [],
   "source": [
    "import pandas as pd\n",
    "import requests\n",
    "from bs4 import BeautifulSoup\n",
    "from selenium import webdriver\n",
    "from time import sleep\n",
    "import re"
   ]
  },
  {
   "cell_type": "code",
   "execution_count": 2,
   "metadata": {},
   "outputs": [],
   "source": [
    "driver = webdriver.Chrome(executable_path=r\"C:\\Users\\Mark\\Anaconda3\\selenium\\webdriver\\chrome\\chromedriver.exe\")"
   ]
  },
  {
   "cell_type": "code",
   "execution_count": 2,
   "metadata": {},
   "outputs": [],
   "source": [
    "df_beer = pd.read_csv('./df_beer.csv', encoding = \"latin1\")"
   ]
  },
  {
   "cell_type": "code",
   "execution_count": 6,
   "metadata": {},
   "outputs": [
    {
     "data": {
      "text/plain": [
       "4         /beer/profile/199/29619/\n",
       "5       /beer/profile/46317/16814/\n",
       "6         /beer/profile/287/17112/\n",
       "7        /beer/profile/1199/19960/\n",
       "8        /beer/profile/1146/10672/\n",
       "9           /beer/profile/112/412/\n",
       "10          /beer/profile/64/6108/\n",
       "11          /beer/profile/140/276/\n",
       "12           /beer/profile/147/88/\n",
       "13        /beer/profile/140/30420/\n",
       "14        /beer/profile/147/84596/\n",
       "15         /beer/profile/43153/92/\n",
       "16         /beer/profile/140/1904/\n",
       "17         /beer/profile/26/64228/\n",
       "18        /beer/profile/220/74986/\n",
       "19            /beer/profile/22/34/\n",
       "20       /beer/profile/2681/34483/\n",
       "21         /beer/profile/259/1708/\n",
       "22          /beer/profile/207/645/\n",
       "23           /beer/profile/35/104/\n",
       "24        /beer/profile/220/49789/\n",
       "25          /beer/profile/220/916/\n",
       "26          /beer/profile/192/607/\n",
       "27        /beer/profile/694/15881/\n",
       "28          /beer/profile/252/731/\n",
       "29        /beer/profile/1199/5441/\n",
       "30       /beer/profile/1199/35036/\n",
       "31          /beer/profile/64/9086/\n",
       "32          /beer/profile/222/695/\n",
       "33      /beer/profile/17981/46363/\n",
       "                  ...             \n",
       "220           /beer/profile/28/61/\n",
       "221         /beer/profile/273/751/\n",
       "222          /beer/profile/45/148/\n",
       "223       /beer/profile/3120/7597/\n",
       "224        /beer/profile/35/54904/\n",
       "225         /beer/profile/35/1881/\n",
       "226        /beer/profile/140/6549/\n",
       "227         /beer/profile/140/279/\n",
       "228       /beer/profile/710/36010/\n",
       "229        /beer/profile/590/1963/\n",
       "230        /beer/profile/590/1577/\n",
       "231      /beer/profile/1199/23474/\n",
       "232       /beer/profile/694/71969/\n",
       "233       /beer/profile/898/25755/\n",
       "234        /beer/profile/26/52531/\n",
       "235        /beer/profile/73/15813/\n",
       "236        /beer/profile/273/1493/\n",
       "237       /beer/profile/252/35625/\n",
       "238       /beer/profile/220/57912/\n",
       "239    /beer/profile/46317/111616/\n",
       "240      /beer/profile/147/111969/\n",
       "241        /beer/profile/124/1256/\n",
       "242       /beer/profile/132/56973/\n",
       "243          /beer/profile/28/665/\n",
       "244        /beer/profile/64/15758/\n",
       "245      /beer/profile/2372/53886/\n",
       "246       /beer/profile/147/43905/\n",
       "247      /beer/profile/2681/65347/\n",
       "248      /beer/profile/2743/35732/\n",
       "249         /beer/profile/140/283/\n",
       "Name: url, Length: 246, dtype: object"
      ]
     },
     "execution_count": 6,
     "metadata": {},
     "output_type": "execute_result"
    }
   ],
   "source": [
    "# scraper stopped running at this point\n",
    "df_beer['url'][4:]"
   ]
  },
  {
   "cell_type": "code",
   "execution_count": 4,
   "metadata": {},
   "outputs": [],
   "source": [
    "review_grabber = lambda x: re.search('overall:\\s\\d\\.\\d*(.*[\\s\\S]*\\d characters)', x).group(1)\n",
    "\n",
    "def review_cleaner(string):\n",
    "    x = review_grabber(string)\n",
    "    x = re.sub('\\d* characters', '', x)\n",
    "    x = re.sub('\\n', ' ', x)\n",
    "    x = re.sub(',', '', x)\n",
    "    return x\n",
    "    \n",
    "def get_user_reviews_csv(url):\n",
    "    counter = 0\n",
    "    review_number = 1\n",
    "    for i in range(0,101):\n",
    "        driver.get(f'https://www.beeradvocate.com{url}?view=beer&sort=&start={i*25}')\n",
    "        sleep(2)\n",
    "        beer_page = driver.page_source\n",
    "        beer_page_soup = BeautifulSoup(beer_page, 'lxml')\n",
    "        \n",
    "        reviews = beer_page_soup.find_all('div', {'id':'rating_fullview_content_2'})\n",
    "        \n",
    "        counter += 1\n",
    "        print(f'{url} -- page {counter}')\n",
    "        \n",
    "        for count, review in enumerate(reviews):\n",
    "            score = review.find('span', {'class': 'BAscore_norm'}).text\n",
    "            breakdown = review.find('span', {'class': 'muted'}).text\n",
    "            u_names = review.find('a', {'class':'username'}).text\n",
    "            try:\n",
    "                r_text = review_cleaner(reviews[count].text)\n",
    "            except:\n",
    "                r_text = \"No Review\"\n",
    "                \n",
    "            master_list = [str(review_number), url, score, breakdown, u_names, r_text]\n",
    "            with open('./aws_user_reviews.csv', 'a+') as f:\n",
    "                print(','.join(master_list), file=f)\n",
    "            \n",
    "            review_number += 1\n",
    "    \n",
    "    sleep(2)"
   ]
  },
  {
   "cell_type": "code",
   "execution_count": 5,
   "metadata": {},
   "outputs": [
    {
     "name": "stdout",
     "output_type": "stream",
     "text": [
      "/beer/profile/1199/11757/ -- page 1\n",
      "/beer/profile/1199/11757/ -- page 2\n",
      "/beer/profile/64/2093/ -- page 1\n",
      "/beer/profile/64/2093/ -- page 2\n"
     ]
    },
    {
     "data": {
      "text/plain": [
       "0    None\n",
       "1    None\n",
       "Name: url, dtype: object"
      ]
     },
     "execution_count": 5,
     "metadata": {},
     "output_type": "execute_result"
    }
   ],
   "source": [
    "df_beer['url'][0:2].apply(get_user_reviews_csv)"
   ]
  },
  {
   "cell_type": "code",
   "execution_count": null,
   "metadata": {},
   "outputs": [],
   "source": []
  }
 ],
 "metadata": {
  "kernelspec": {
   "display_name": "Python 3",
   "language": "python",
   "name": "python3"
  },
  "language_info": {
   "codemirror_mode": {
    "name": "ipython",
    "version": 3
   },
   "file_extension": ".py",
   "mimetype": "text/x-python",
   "name": "python",
   "nbconvert_exporter": "python",
   "pygments_lexer": "ipython3",
   "version": "3.6.3"
  }
 },
 "nbformat": 4,
 "nbformat_minor": 2
}
