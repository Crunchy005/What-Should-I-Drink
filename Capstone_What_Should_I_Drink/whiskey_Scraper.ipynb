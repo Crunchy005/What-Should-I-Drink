{
 "cells": [
  {
   "cell_type": "code",
   "execution_count": 1,
   "metadata": {},
   "outputs": [],
   "source": [
    "import pandas as pd\n",
    "import requests\n",
    "from bs4 import BeautifulSoup\n",
    "from selenium import webdriver\n",
    "from time import sleep\n",
    "import re"
   ]
  },
  {
   "cell_type": "code",
   "execution_count": 100,
   "metadata": {},
   "outputs": [],
   "source": [
    "html = requests.get('http://www.lawhiskeysociety.com/whiskey-profile/3365/Aberlour-12-Year-Old-Non-Chill-filtered')"
   ]
  },
  {
   "cell_type": "code",
   "execution_count": 101,
   "metadata": {},
   "outputs": [],
   "source": [
    "soup = BeautifulSoup(html.content, 'lxml')"
   ]
  },
  {
   "cell_type": "code",
   "execution_count": 102,
   "metadata": {},
   "outputs": [
    {
     "data": {
      "text/plain": [
       "'Aberlour 12 Year Old Non Chill-filtered'"
      ]
     },
     "execution_count": 102,
     "metadata": {},
     "output_type": "execute_result"
    }
   ],
   "source": [
    "soup.find('div', {'class': 'titlePopup'}).text"
   ]
  },
  {
   "cell_type": "code",
   "execution_count": 103,
   "metadata": {},
   "outputs": [
    {
     "data": {
      "text/plain": [
       "[<td class=\"textValuePopup\">Aberlour</td>,\n",
       " <td class=\"textValuePopup\" height=\"20\" width=\"80\">12 yrs</td>,\n",
       " <td class=\"textValuePopup\" height=\"20\">Scotch</td>,\n",
       " <td class=\"textValuePopup\" height=\"20\" width=\"80\">N/A</td>,\n",
       " <td class=\"textValuePopup\" height=\"20\">Single Malt</td>,\n",
       " <td class=\"textValuePopup\" height=\"20\" width=\"80\">48.00 %</td>,\n",
       " <td class=\"textValuePopup\" height=\"20\">Speyside</td>,\n",
       " <td class=\"textValuePopup\" height=\"20\" width=\"80\">$50</td>,\n",
       " <td class=\"textValuePopup\" height=\"20\">Wide</td>]"
      ]
     },
     "execution_count": 103,
     "metadata": {},
     "output_type": "execute_result"
    }
   ],
   "source": [
    "soup.find_all('td', {'class': 'textValuePopup'})"
   ]
  },
  {
   "cell_type": "code",
   "execution_count": 104,
   "metadata": {},
   "outputs": [
    {
     "name": "stdout",
     "output_type": "stream",
     "text": [
      "Aberlour\n",
      "12 yrs\n",
      "Scotch\n",
      "N/A\n",
      "Single Malt\n",
      "48.00 %\n",
      "Speyside\n",
      "$50\n",
      "Wide\n"
     ]
    }
   ],
   "source": [
    "# bottler\n",
    "print(soup.find_all('td', {'class': 'textValuePopup'})[0].text)\n",
    "\n",
    "# Age\n",
    "print(soup.find_all('td', {'class': 'textValuePopup'})[1].text)\n",
    "\n",
    "# Type\n",
    "print(soup.find_all('td', {'class': 'textValuePopup'})[2].text)\n",
    "\n",
    "# Vintage\n",
    "print(soup.find_all('td', {'class': 'textValuePopup'})[3].text)\n",
    "\n",
    "# Subtype\n",
    "print(soup.find_all('td', {'class': 'textValuePopup'})[4].text)\n",
    "\n",
    "# ABV\n",
    "print(soup.find_all('td', {'class': 'textValuePopup'})[5].text)\n",
    "\n",
    "# Region\n",
    "print(soup.find_all('td', {'class': 'textValuePopup'})[6].text)\n",
    "\n",
    "# Price\n",
    "print(soup.find_all('td', {'class': 'textValuePopup'})[7].text)\n",
    "\n",
    "# Availability\n",
    "print(soup.find_all('td', {'class': 'textValuePopup'})[8].text)"
   ]
  },
  {
   "cell_type": "code",
   "execution_count": 105,
   "metadata": {},
   "outputs": [
    {
     "name": "stdout",
     "output_type": "stream",
     "text": [
      "Ries\n",
      "Andy\n"
     ]
    }
   ],
   "source": [
    "# username\n",
    "for i in soup.find_all('td', {'class':'contentCell2Popup', 'width':'40'}):\n",
    "    print(i.text)"
   ]
  },
  {
   "cell_type": "code",
   "execution_count": 106,
   "metadata": {},
   "outputs": [
    {
     "name": "stdout",
     "output_type": "stream",
     "text": [
      "*****n: fuller rich nose; full vanilla caramels, vanilla wafers, dried red fruit, and milk chocolate bar. t: quite malty with a nice density to this. Doesn't stray too far from young sherry cask influence and vanilla oak char. Has an all-spice and dried figs & strawberry middle that gets even dryer in the brown sugar and vanilla caramel finish. End is a dark chocolate covered raisins. This is a nice everyday sipper; barely semi-sweet, but a great value. [B solid] \n",
      "*****n:  Gym socks across the room p:  Wierd.  Great mouthfeel.  Sweet and musty.  Tweed finish. \n"
     ]
    }
   ],
   "source": [
    "# review\n",
    "for i in soup.find_all('td', {'class':'contentCell2Popup', 'align':'left'}):\n",
    "    print('*****'+i.text)"
   ]
  },
  {
   "cell_type": "code",
   "execution_count": 107,
   "metadata": {},
   "outputs": [
    {
     "name": "stdout",
     "output_type": "stream",
     "text": [
      "images/letters/b_thumb.jpg\n",
      "images/letters/bminus_thumb.jpg\n"
     ]
    }
   ],
   "source": [
    "# letter grade\n",
    "for i in soup.find_all('td', {'class':'contentCell2Popup'}):\n",
    "    for x in i.find_all('img',{'src':True}):\n",
    "        print(x.attrs['src'])"
   ]
  },
  {
   "cell_type": "code",
   "execution_count": null,
   "metadata": {},
   "outputs": [],
   "source": []
  },
  {
   "cell_type": "markdown",
   "metadata": {},
   "source": [
    "### Test on second url"
   ]
  },
  {
   "cell_type": "code",
   "execution_count": 92,
   "metadata": {},
   "outputs": [],
   "source": [
    "html = requests.get('http://www.lawhiskeysociety.com/whiskey/3701/Ardmore-2000-Villa-Konthor')"
   ]
  },
  {
   "cell_type": "code",
   "execution_count": 93,
   "metadata": {},
   "outputs": [],
   "source": [
    "soup = BeautifulSoup(html.content, 'lxml')"
   ]
  },
  {
   "cell_type": "code",
   "execution_count": 94,
   "metadata": {},
   "outputs": [
    {
     "data": {
      "text/plain": [
       "'Ardmore 2000 Villa Konthor'"
      ]
     },
     "execution_count": 94,
     "metadata": {},
     "output_type": "execute_result"
    }
   ],
   "source": [
    "soup.find('div', {'class': 'titlePopup'}).text"
   ]
  },
  {
   "cell_type": "code",
   "execution_count": 95,
   "metadata": {},
   "outputs": [
    {
     "data": {
      "text/plain": [
       "[<td class=\"textValuePopup\">Villa Konthor</td>,\n",
       " <td class=\"textValuePopup\" height=\"20\" width=\"80\">14 yrs</td>,\n",
       " <td class=\"textValuePopup\" height=\"20\">Scotch</td>,\n",
       " <td class=\"textValuePopup\" height=\"20\" width=\"80\">2000</td>,\n",
       " <td class=\"textValuePopup\" height=\"20\">Single Malt</td>,\n",
       " <td class=\"textValuePopup\" height=\"20\" width=\"80\">51.90 %</td>,\n",
       " <td class=\"textValuePopup\" height=\"20\">Speyside</td>,\n",
       " <td class=\"textValuePopup\" height=\"20\" width=\"80\">$70</td>,\n",
       " <td class=\"textValuePopup\" height=\"20\">Overseas Specialty</td>]"
      ]
     },
     "execution_count": 95,
     "metadata": {},
     "output_type": "execute_result"
    }
   ],
   "source": [
    "soup.find_all('td', {'class': 'textValuePopup'})"
   ]
  },
  {
   "cell_type": "code",
   "execution_count": 96,
   "metadata": {},
   "outputs": [
    {
     "name": "stdout",
     "output_type": "stream",
     "text": [
      "Villa Konthor\n",
      "14 yrs\n",
      "Scotch\n",
      "2000\n",
      "Single Malt\n",
      "51.90 %\n",
      "Speyside\n",
      "$70\n",
      "Overseas Specialty\n"
     ]
    }
   ],
   "source": [
    "# bottler\n",
    "print(soup.find_all('td', {'class': 'textValuePopup'})[0].text)\n",
    "\n",
    "# Age\n",
    "print(soup.find_all('td', {'class': 'textValuePopup'})[1].text)\n",
    "\n",
    "# Type\n",
    "print(soup.find_all('td', {'class': 'textValuePopup'})[2].text)\n",
    "\n",
    "# Vintage\n",
    "print(soup.find_all('td', {'class': 'textValuePopup'})[3].text)\n",
    "\n",
    "# Subtype\n",
    "print(soup.find_all('td', {'class': 'textValuePopup'})[4].text)\n",
    "\n",
    "# ABV\n",
    "print(soup.find_all('td', {'class': 'textValuePopup'})[5].text)\n",
    "\n",
    "# Region\n",
    "print(soup.find_all('td', {'class': 'textValuePopup'})[6].text)\n",
    "\n",
    "# Price\n",
    "print(soup.find_all('td', {'class': 'textValuePopup'})[7].text)\n",
    "\n",
    "# Availability\n",
    "print(soup.find_all('td', {'class': 'textValuePopup'})[8].text)"
   ]
  },
  {
   "cell_type": "code",
   "execution_count": 97,
   "metadata": {},
   "outputs": [
    {
     "name": "stdout",
     "output_type": "stream",
     "text": [
      "Andy\n"
     ]
    }
   ],
   "source": [
    "# username\n",
    "for i in soup.find_all('td', {'class':'contentCell2Popup', 'width':'40'}):\n",
    "    print(i.text)"
   ]
  },
  {
   "cell_type": "code",
   "execution_count": 98,
   "metadata": {},
   "outputs": [
    {
     "name": "stdout",
     "output_type": "stream",
     "text": [
      "*****n:  Molten plastic.  Enjoyable toxins. p:  Generic peat.  Unsweet tar and ash.  Doesn't really escape to anything more complex. C+/B-  \n"
     ]
    }
   ],
   "source": [
    "# review\n",
    "for i in soup.find_all('td', {'class':'contentCell2Popup', 'align':'left'}):\n",
    "    print('*****'+i.text)"
   ]
  },
  {
   "cell_type": "code",
   "execution_count": 99,
   "metadata": {},
   "outputs": [
    {
     "name": "stdout",
     "output_type": "stream",
     "text": [
      "images/letters/cplus_thumb.jpg\n"
     ]
    }
   ],
   "source": [
    "# letter grade\n",
    "for i in soup.find_all('td', {'class':'contentCell2Popup'}):\n",
    "    for x in i.find_all('img',{'src':True}):\n",
    "        print(x.attrs['src'])"
   ]
  },
  {
   "cell_type": "code",
   "execution_count": null,
   "metadata": {},
   "outputs": [],
   "source": []
  },
  {
   "cell_type": "markdown",
   "metadata": {},
   "source": [
    "### Function Creation"
   ]
  },
  {
   "cell_type": "code",
   "execution_count": 1,
   "metadata": {},
   "outputs": [],
   "source": [
    "import requests\n",
    "from bs4 import BeautifulSoup\n",
    "from time import sleep\n",
    "import re"
   ]
  },
  {
   "cell_type": "code",
   "execution_count": 2,
   "metadata": {},
   "outputs": [],
   "source": [
    "html = requests.get('http://www.lawhiskeysociety.com/whiskey-profile/3365/Aberlour-12-Year-Old-Non-Chill-filtered')\n",
    "soup = BeautifulSoup(html.content, 'lxml')"
   ]
  },
  {
   "cell_type": "code",
   "execution_count": null,
   "metadata": {},
   "outputs": [],
   "source": []
  },
  {
   "cell_type": "code",
   "execution_count": null,
   "metadata": {},
   "outputs": [],
   "source": []
  },
  {
   "cell_type": "code",
   "execution_count": 118,
   "metadata": {},
   "outputs": [],
   "source": [
    "def cleaner(string):\n",
    "    string = re.sub(',', '', string)\n",
    "    string = re.sub(' %', '', string)\n",
    "    string = re.sub('\\$', '', string)\n",
    "    return string\n",
    "\n",
    "grade_grabber = lambda x: re.search('images\\/letters\\/(.*)_', x).group(1)\n",
    "\n",
    "# all above stays outside of the function\n",
    "\n",
    "def get_whiskey_reviews(url):\n",
    "    sleep(2)\n",
    "    html = requests.get(url)\n",
    "    soup = BeautifulSoup(html.content, 'lxml')\n",
    "    \n",
    "    w_name  = cleaner(soup.find('div', {'class': 'titlePopup'}).text)\n",
    "    bottler = cleaner(soup.find_all('td', {'class': 'textValuePopup'})[0].text)\n",
    "    age     = cleaner(soup.find_all('td', {'class': 'textValuePopup'})[1].text)\n",
    "    w_type  = cleaner(soup.find_all('td', {'class': 'textValuePopup'})[2].text)\n",
    "    vint    = cleaner(soup.find_all('td', {'class': 'textValuePopup'})[3].text)\n",
    "    subt    = cleaner(soup.find_all('td', {'class': 'textValuePopup'})[4].text)\n",
    "    abv     = cleaner(soup.find_all('td', {'class': 'textValuePopup'})[5].text)\n",
    "    region  = cleaner(soup.find_all('td', {'class': 'textValuePopup'})[6].text)\n",
    "    price   = cleaner(soup.find_all('td', {'class': 'textValuePopup'})[7].text)\n",
    "    avaib   = cleaner(soup.find_all('td', {'class': 'textValuePopup'})[8].text)\n",
    "\n",
    "    username = []\n",
    "    for i in soup.find_all('td', {'class':'contentCell2Popup', 'width':'40'}):\n",
    "        username.append(cleaner(i.text))\n",
    "\n",
    "    grade = []\n",
    "    for i in soup.find_all('td', {'class':'contentCell2Popup'}):\n",
    "        for x in i.find_all('img',{'src':True}):\n",
    "            grade.append(grade_grabber(x.attrs['src']))\n",
    "\n",
    "    review = []\n",
    "    for i in soup.find_all('td', {'class':'contentCell2Popup', 'align':'left'}):\n",
    "        review.append(cleaner(i.text))\n",
    "\n",
    "    for i in range(0,len(username)):\n",
    "#         print(username[i], grade[i], review[i], w_name, bottler, age, w_type, vint, subt, abv, region, price, avaib)\n",
    "        \n",
    "        master_list = [username[i], grade[i], review[i], w_name, bottler, age, w_type, vint, subt, abv, region, price, avaib]\n",
    "        with open('./aws_whiskey_reviews.csv', 'a+') as f:\n",
    "            print(','.join(master_list), file=f)"
   ]
  },
  {
   "cell_type": "code",
   "execution_count": 90,
   "metadata": {},
   "outputs": [],
   "source": [
    "def cleaner(string):\n",
    "    string = re.sub(',', '', string)\n",
    "    string = re.sub(' %', '', string)\n",
    "    string = re.sub('\\$', '', string)\n",
    "    return string"
   ]
  },
  {
   "cell_type": "code",
   "execution_count": 91,
   "metadata": {},
   "outputs": [
    {
     "data": {
      "text/plain": [
       "'50'"
      ]
     },
     "execution_count": 91,
     "metadata": {},
     "output_type": "execute_result"
    }
   ],
   "source": [
    "cleaner(price)"
   ]
  },
  {
   "cell_type": "code",
   "execution_count": 92,
   "metadata": {},
   "outputs": [],
   "source": [
    "grade_grabber = lambda x: re.search('images\\/letters\\/(.*)_', x).group(1)"
   ]
  },
  {
   "cell_type": "code",
   "execution_count": 100,
   "metadata": {},
   "outputs": [
    {
     "data": {
      "text/plain": [
       "'bminus'"
      ]
     },
     "execution_count": 100,
     "metadata": {},
     "output_type": "execute_result"
    }
   ],
   "source": [
    "grade_grabber('images/letters/bminus_thumb.jpg')"
   ]
  },
  {
   "cell_type": "code",
   "execution_count": null,
   "metadata": {},
   "outputs": [],
   "source": []
  },
  {
   "cell_type": "code",
   "execution_count": null,
   "metadata": {},
   "outputs": [],
   "source": []
  },
  {
   "cell_type": "markdown",
   "metadata": {},
   "source": [
    "### Testing"
   ]
  },
  {
   "cell_type": "code",
   "execution_count": 106,
   "metadata": {},
   "outputs": [],
   "source": [
    "df_whiskey = pd.read_csv('./Scraped_Data/df_whiskey.csv')"
   ]
  },
  {
   "cell_type": "code",
   "execution_count": 112,
   "metadata": {},
   "outputs": [
    {
     "data": {
      "text/plain": [
       "0    http://www.lawhiskeysociety.com/whiskey-profil...\n",
       "1    http://www.lawhiskeysociety.com/whiskey-profil...\n",
       "Name: url, dtype: object"
      ]
     },
     "execution_count": 112,
     "metadata": {},
     "output_type": "execute_result"
    }
   ],
   "source": [
    "df_whiskey['url'][0:2]"
   ]
  },
  {
   "cell_type": "code",
   "execution_count": 119,
   "metadata": {},
   "outputs": [
    {
     "data": {
      "text/plain": [
       "0    None\n",
       "1    None\n",
       "Name: url, dtype: object"
      ]
     },
     "execution_count": 119,
     "metadata": {},
     "output_type": "execute_result"
    }
   ],
   "source": [
    "df_whiskey['url'][0:2].apply(get_whiskey_reviews)"
   ]
  },
  {
   "cell_type": "code",
   "execution_count": null,
   "metadata": {},
   "outputs": [],
   "source": []
  },
  {
   "cell_type": "code",
   "execution_count": null,
   "metadata": {},
   "outputs": [],
   "source": []
  },
  {
   "cell_type": "code",
   "execution_count": null,
   "metadata": {},
   "outputs": [],
   "source": []
  },
  {
   "cell_type": "code",
   "execution_count": null,
   "metadata": {},
   "outputs": [],
   "source": []
  },
  {
   "cell_type": "code",
   "execution_count": null,
   "metadata": {},
   "outputs": [],
   "source": [
    "def get_user_reviews_csv(url):\n",
    "    counter = 0\n",
    "    review_number = 1\n",
    "    for i in range(0,101):\n",
    "        driver.get(f'https://www.beeradvocate.com{url}?view=beer&sort=&start={i*25}')\n",
    "        sleep(2)\n",
    "        beer_page = driver.page_source\n",
    "        beer_page_soup = BeautifulSoup(beer_page, 'lxml')\n",
    "        \n",
    "        reviews = beer_page_soup.find_all('div', {'id':'rating_fullview_content_2'})\n",
    "        \n",
    "        counter += 1\n",
    "        print(f'{url} -- page {counter}')\n",
    "        \n",
    "        for count, review in enumerate(reviews):\n",
    "            score = review.find('span', {'class': 'BAscore_norm'}).text\n",
    "            breakdown = review.find('span', {'class': 'muted'}).text\n",
    "            u_names = review.find('a', {'class':'username'}).text\n",
    "            try:\n",
    "                r_text = review_cleaner(reviews[count].text)\n",
    "            except:\n",
    "                r_text = \"No Review\"\n",
    "                \n",
    "            master_list = [str(review_number), url, score, breakdown, u_names, r_text]\n",
    "            with open('./aws_user_reviews.csv', 'a+') as f:\n",
    "                print(','.join(master_list), file=f)\n",
    "            \n",
    "            review_number += 1\n",
    "    \n",
    "    sleep(2)"
   ]
  },
  {
   "cell_type": "code",
   "execution_count": null,
   "metadata": {},
   "outputs": [],
   "source": []
  },
  {
   "cell_type": "code",
   "execution_count": null,
   "metadata": {},
   "outputs": [],
   "source": []
  },
  {
   "cell_type": "code",
   "execution_count": null,
   "metadata": {},
   "outputs": [],
   "source": []
  },
  {
   "cell_type": "code",
   "execution_count": null,
   "metadata": {},
   "outputs": [],
   "source": []
  },
  {
   "cell_type": "code",
   "execution_count": null,
   "metadata": {},
   "outputs": [],
   "source": [
    "# whiskey's reviewed within the last 3.5 years\n",
    "# got rid of > $1000, ratings of F, no price\n",
    "\n",
    "# NAS Year -- no age statment\n",
    "# OB Bottler -- original bottlings"
   ]
  },
  {
   "cell_type": "code",
   "execution_count": 4,
   "metadata": {},
   "outputs": [],
   "source": [
    "df_whiskey = pd.read_csv('./Scraped_Data/df_whiskey.csv')"
   ]
  },
  {
   "cell_type": "code",
   "execution_count": 5,
   "metadata": {},
   "outputs": [
    {
     "data": {
      "text/html": [
       "<div>\n",
       "<style>\n",
       "    .dataframe thead tr:only-child th {\n",
       "        text-align: right;\n",
       "    }\n",
       "\n",
       "    .dataframe thead th {\n",
       "        text-align: left;\n",
       "    }\n",
       "\n",
       "    .dataframe tbody tr th {\n",
       "        vertical-align: top;\n",
       "    }\n",
       "</style>\n",
       "<table border=\"1\" class=\"dataframe\">\n",
       "  <thead>\n",
       "    <tr style=\"text-align: right;\">\n",
       "      <th></th>\n",
       "      <th>whiskey</th>\n",
       "      <th>url</th>\n",
       "      <th>age</th>\n",
       "      <th>bottler</th>\n",
       "      <th>price</th>\n",
       "      <th>average_rating</th>\n",
       "      <th>personal_rating</th>\n",
       "    </tr>\n",
       "  </thead>\n",
       "  <tbody>\n",
       "    <tr>\n",
       "      <th>0</th>\n",
       "      <td>Aberlour 12 Year Old Non Chill-filtered</td>\n",
       "      <td>http://www.lawhiskeysociety.com/whiskey-profil...</td>\n",
       "      <td>12 yrs</td>\n",
       "      <td>Aberlour</td>\n",
       "      <td>$50</td>\n",
       "      <td>B</td>\n",
       "      <td>B-</td>\n",
       "    </tr>\n",
       "    <tr>\n",
       "      <th>1</th>\n",
       "      <td>Aberlour A'bunadh Batch 46</td>\n",
       "      <td>http://www.lawhiskeysociety.com/whiskey-profil...</td>\n",
       "      <td>NaN</td>\n",
       "      <td>OB</td>\n",
       "      <td>$65</td>\n",
       "      <td>B</td>\n",
       "      <td>B+</td>\n",
       "    </tr>\n",
       "    <tr>\n",
       "      <th>2</th>\n",
       "      <td>Aberlour A'bunadh Batch 47</td>\n",
       "      <td>http://www.lawhiskeysociety.com/whiskey-profil...</td>\n",
       "      <td>NaN</td>\n",
       "      <td>OB</td>\n",
       "      <td>$65</td>\n",
       "      <td>B</td>\n",
       "      <td>B</td>\n",
       "    </tr>\n",
       "    <tr>\n",
       "      <th>3</th>\n",
       "      <td>Aberlour A'bunadh Batch 50</td>\n",
       "      <td>http://www.lawhiskeysociety.com/whiskey-profil...</td>\n",
       "      <td>NaN</td>\n",
       "      <td>OB</td>\n",
       "      <td>$65</td>\n",
       "      <td>B</td>\n",
       "      <td>B</td>\n",
       "    </tr>\n",
       "    <tr>\n",
       "      <th>4</th>\n",
       "      <td>Amrut Rye</td>\n",
       "      <td>http://www.lawhiskeysociety.com/whiskey-profil...</td>\n",
       "      <td>5 yrs</td>\n",
       "      <td>OB</td>\n",
       "      <td>$180</td>\n",
       "      <td>C+</td>\n",
       "      <td>B</td>\n",
       "    </tr>\n",
       "  </tbody>\n",
       "</table>\n",
       "</div>"
      ],
      "text/plain": [
       "                                   whiskey  \\\n",
       "0  Aberlour 12 Year Old Non Chill-filtered   \n",
       "1               Aberlour A'bunadh Batch 46   \n",
       "2               Aberlour A'bunadh Batch 47   \n",
       "3               Aberlour A'bunadh Batch 50   \n",
       "4                                Amrut Rye   \n",
       "\n",
       "                                                 url     age   bottler  price  \\\n",
       "0  http://www.lawhiskeysociety.com/whiskey-profil...  12 yrs  Aberlour   $50    \n",
       "1  http://www.lawhiskeysociety.com/whiskey-profil...     NaN        OB   $65    \n",
       "2  http://www.lawhiskeysociety.com/whiskey-profil...     NaN        OB   $65    \n",
       "3  http://www.lawhiskeysociety.com/whiskey-profil...     NaN        OB   $65    \n",
       "4  http://www.lawhiskeysociety.com/whiskey-profil...   5 yrs        OB  $180    \n",
       "\n",
       "  average_rating personal_rating  \n",
       "0              B              B-  \n",
       "1              B              B+  \n",
       "2              B               B  \n",
       "3              B               B  \n",
       "4             C+               B  "
      ]
     },
     "execution_count": 5,
     "metadata": {},
     "output_type": "execute_result"
    }
   ],
   "source": [
    "df_whiskey.head()"
   ]
  },
  {
   "cell_type": "code",
   "execution_count": 3,
   "metadata": {},
   "outputs": [],
   "source": [
    "# grades = {'A': 5, 'A-': 4.75, 'B+': 4.25, 'B': 4, 'B-': 3.75, 'C+': 3.25, 'C': 3, 'C-': 2.75, 'D+': 2.25, 'D': 2, 'D-': 1.75}"
   ]
  },
  {
   "cell_type": "code",
   "execution_count": 7,
   "metadata": {},
   "outputs": [],
   "source": [
    "grades = {'A': 5, 'A-': 4.5, 'B+': 4.25, 'B': 4, 'B-': 3.5, 'C+': 3.25, 'C': 3, 'C-': 2.5, 'D+': 2.25, 'D': 2, 'D-': 1.5}"
   ]
  },
  {
   "cell_type": "code",
   "execution_count": 6,
   "metadata": {},
   "outputs": [
    {
     "data": {
      "text/plain": [
       "B     89\n",
       "B-    42\n",
       "C+    40\n",
       "B+    32\n",
       "C     16\n",
       "A-     5\n",
       "C-     5\n",
       "D      3\n",
       "D+     3\n",
       "Name: average_rating, dtype: int64"
      ]
     },
     "execution_count": 6,
     "metadata": {},
     "output_type": "execute_result"
    }
   ],
   "source": [
    "df_whiskey['average_rating'].value_counts()"
   ]
  },
  {
   "cell_type": "code",
   "execution_count": 10,
   "metadata": {},
   "outputs": [],
   "source": [
    "df_whiskey['average_rating'] = df_whiskey['average_rating'].replace(grades)\n",
    "df_whiskey['personal_rating'] = df_whiskey['personal_rating'].replace(grades)"
   ]
  },
  {
   "cell_type": "code",
   "execution_count": 11,
   "metadata": {},
   "outputs": [
    {
     "data": {
      "text/html": [
       "<div>\n",
       "<style>\n",
       "    .dataframe thead tr:only-child th {\n",
       "        text-align: right;\n",
       "    }\n",
       "\n",
       "    .dataframe thead th {\n",
       "        text-align: left;\n",
       "    }\n",
       "\n",
       "    .dataframe tbody tr th {\n",
       "        vertical-align: top;\n",
       "    }\n",
       "</style>\n",
       "<table border=\"1\" class=\"dataframe\">\n",
       "  <thead>\n",
       "    <tr style=\"text-align: right;\">\n",
       "      <th></th>\n",
       "      <th>whiskey</th>\n",
       "      <th>url</th>\n",
       "      <th>age</th>\n",
       "      <th>bottler</th>\n",
       "      <th>price</th>\n",
       "      <th>average_rating</th>\n",
       "      <th>personal_rating</th>\n",
       "    </tr>\n",
       "  </thead>\n",
       "  <tbody>\n",
       "    <tr>\n",
       "      <th>0</th>\n",
       "      <td>Aberlour 12 Year Old Non Chill-filtered</td>\n",
       "      <td>http://www.lawhiskeysociety.com/whiskey-profil...</td>\n",
       "      <td>12 yrs</td>\n",
       "      <td>Aberlour</td>\n",
       "      <td>$50</td>\n",
       "      <td>4.00</td>\n",
       "      <td>3.50</td>\n",
       "    </tr>\n",
       "    <tr>\n",
       "      <th>1</th>\n",
       "      <td>Aberlour A'bunadh Batch 46</td>\n",
       "      <td>http://www.lawhiskeysociety.com/whiskey-profil...</td>\n",
       "      <td>NaN</td>\n",
       "      <td>OB</td>\n",
       "      <td>$65</td>\n",
       "      <td>4.00</td>\n",
       "      <td>4.25</td>\n",
       "    </tr>\n",
       "    <tr>\n",
       "      <th>2</th>\n",
       "      <td>Aberlour A'bunadh Batch 47</td>\n",
       "      <td>http://www.lawhiskeysociety.com/whiskey-profil...</td>\n",
       "      <td>NaN</td>\n",
       "      <td>OB</td>\n",
       "      <td>$65</td>\n",
       "      <td>4.00</td>\n",
       "      <td>4.00</td>\n",
       "    </tr>\n",
       "    <tr>\n",
       "      <th>3</th>\n",
       "      <td>Aberlour A'bunadh Batch 50</td>\n",
       "      <td>http://www.lawhiskeysociety.com/whiskey-profil...</td>\n",
       "      <td>NaN</td>\n",
       "      <td>OB</td>\n",
       "      <td>$65</td>\n",
       "      <td>4.00</td>\n",
       "      <td>4.00</td>\n",
       "    </tr>\n",
       "    <tr>\n",
       "      <th>4</th>\n",
       "      <td>Amrut Rye</td>\n",
       "      <td>http://www.lawhiskeysociety.com/whiskey-profil...</td>\n",
       "      <td>5 yrs</td>\n",
       "      <td>OB</td>\n",
       "      <td>$180</td>\n",
       "      <td>3.25</td>\n",
       "      <td>4.00</td>\n",
       "    </tr>\n",
       "  </tbody>\n",
       "</table>\n",
       "</div>"
      ],
      "text/plain": [
       "                                   whiskey  \\\n",
       "0  Aberlour 12 Year Old Non Chill-filtered   \n",
       "1               Aberlour A'bunadh Batch 46   \n",
       "2               Aberlour A'bunadh Batch 47   \n",
       "3               Aberlour A'bunadh Batch 50   \n",
       "4                                Amrut Rye   \n",
       "\n",
       "                                                 url     age   bottler  price  \\\n",
       "0  http://www.lawhiskeysociety.com/whiskey-profil...  12 yrs  Aberlour   $50    \n",
       "1  http://www.lawhiskeysociety.com/whiskey-profil...     NaN        OB   $65    \n",
       "2  http://www.lawhiskeysociety.com/whiskey-profil...     NaN        OB   $65    \n",
       "3  http://www.lawhiskeysociety.com/whiskey-profil...     NaN        OB   $65    \n",
       "4  http://www.lawhiskeysociety.com/whiskey-profil...   5 yrs        OB  $180    \n",
       "\n",
       "   average_rating  personal_rating  \n",
       "0            4.00             3.50  \n",
       "1            4.00             4.25  \n",
       "2            4.00             4.00  \n",
       "3            4.00             4.00  \n",
       "4            3.25             4.00  "
      ]
     },
     "execution_count": 11,
     "metadata": {},
     "output_type": "execute_result"
    }
   ],
   "source": [
    "df_whiskey.head()"
   ]
  },
  {
   "cell_type": "code",
   "execution_count": null,
   "metadata": {},
   "outputs": [],
   "source": []
  }
 ],
 "metadata": {
  "kernelspec": {
   "display_name": "Python 3",
   "language": "python",
   "name": "python3"
  },
  "language_info": {
   "codemirror_mode": {
    "name": "ipython",
    "version": 3
   },
   "file_extension": ".py",
   "mimetype": "text/x-python",
   "name": "python",
   "nbconvert_exporter": "python",
   "pygments_lexer": "ipython3",
   "version": "3.6.3"
  }
 },
 "nbformat": 4,
 "nbformat_minor": 2
}
