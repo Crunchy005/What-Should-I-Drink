{
 "cells": [
  {
   "cell_type": "code",
   "execution_count": 1,
   "metadata": {},
   "outputs": [],
   "source": [
    "import pandas as pd\n",
    "# import requests\n",
    "# from bs4 import BeautifulSoup\n",
    "# from selenium import webdriver\n",
    "# from time import sleep\n",
    "# import re\n",
    "\n",
    "# driver = webdriver.Chrome(executable_path=r\"C:\\Users\\Mark\\Anaconda3\\selenium\\webdriver\\chrome\\chromedriver.exe\")"
   ]
  },
  {
   "cell_type": "code",
   "execution_count": null,
   "metadata": {},
   "outputs": [],
   "source": [
    "# driver.get('http://www.lawhiskeysociety.com/whiskey_list.php?brand=&dist=&order=name&asc=ASC&page=0&f_records=100000&f_alpha=&f_reset=1&f_a_reset=0&f_multiple=0&f___type=0&f_subtype=0&f_member=25&f_added=1260&f_most_notes=1')"
   ]
  },
  {
   "cell_type": "code",
   "execution_count": null,
   "metadata": {},
   "outputs": [],
   "source": [
    "# html = driver.page_source\n",
    "# soup = BeautifulSoup(html, 'lxml')"
   ]
  },
  {
   "cell_type": "code",
   "execution_count": null,
   "metadata": {},
   "outputs": [],
   "source": [
    "# whiskey's reviewed within the last 3.5 years\n",
    "# got rid of > $1000, ratings of F, no price\n",
    "\n",
    "# NAS Year -- no age statment\n",
    "# OB Bottler -- original bottlings"
   ]
  },
  {
   "cell_type": "code",
   "execution_count": 4,
   "metadata": {},
   "outputs": [],
   "source": [
    "df_whiskey = pd.read_csv('./Scraped_Data/df_whiskey.csv')"
   ]
  },
  {
   "cell_type": "code",
   "execution_count": 5,
   "metadata": {},
   "outputs": [
    {
     "data": {
      "text/html": [
       "<div>\n",
       "<style>\n",
       "    .dataframe thead tr:only-child th {\n",
       "        text-align: right;\n",
       "    }\n",
       "\n",
       "    .dataframe thead th {\n",
       "        text-align: left;\n",
       "    }\n",
       "\n",
       "    .dataframe tbody tr th {\n",
       "        vertical-align: top;\n",
       "    }\n",
       "</style>\n",
       "<table border=\"1\" class=\"dataframe\">\n",
       "  <thead>\n",
       "    <tr style=\"text-align: right;\">\n",
       "      <th></th>\n",
       "      <th>whiskey</th>\n",
       "      <th>url</th>\n",
       "      <th>age</th>\n",
       "      <th>bottler</th>\n",
       "      <th>price</th>\n",
       "      <th>average_rating</th>\n",
       "      <th>personal_rating</th>\n",
       "    </tr>\n",
       "  </thead>\n",
       "  <tbody>\n",
       "    <tr>\n",
       "      <th>0</th>\n",
       "      <td>Aberlour 12 Year Old Non Chill-filtered</td>\n",
       "      <td>http://www.lawhiskeysociety.com/whiskey-profil...</td>\n",
       "      <td>12 yrs</td>\n",
       "      <td>Aberlour</td>\n",
       "      <td>$50</td>\n",
       "      <td>B</td>\n",
       "      <td>B-</td>\n",
       "    </tr>\n",
       "    <tr>\n",
       "      <th>1</th>\n",
       "      <td>Aberlour A'bunadh Batch 46</td>\n",
       "      <td>http://www.lawhiskeysociety.com/whiskey-profil...</td>\n",
       "      <td>NaN</td>\n",
       "      <td>OB</td>\n",
       "      <td>$65</td>\n",
       "      <td>B</td>\n",
       "      <td>B+</td>\n",
       "    </tr>\n",
       "    <tr>\n",
       "      <th>2</th>\n",
       "      <td>Aberlour A'bunadh Batch 47</td>\n",
       "      <td>http://www.lawhiskeysociety.com/whiskey-profil...</td>\n",
       "      <td>NaN</td>\n",
       "      <td>OB</td>\n",
       "      <td>$65</td>\n",
       "      <td>B</td>\n",
       "      <td>B</td>\n",
       "    </tr>\n",
       "    <tr>\n",
       "      <th>3</th>\n",
       "      <td>Aberlour A'bunadh Batch 50</td>\n",
       "      <td>http://www.lawhiskeysociety.com/whiskey-profil...</td>\n",
       "      <td>NaN</td>\n",
       "      <td>OB</td>\n",
       "      <td>$65</td>\n",
       "      <td>B</td>\n",
       "      <td>B</td>\n",
       "    </tr>\n",
       "    <tr>\n",
       "      <th>4</th>\n",
       "      <td>Amrut Rye</td>\n",
       "      <td>http://www.lawhiskeysociety.com/whiskey-profil...</td>\n",
       "      <td>5 yrs</td>\n",
       "      <td>OB</td>\n",
       "      <td>$180</td>\n",
       "      <td>C+</td>\n",
       "      <td>B</td>\n",
       "    </tr>\n",
       "  </tbody>\n",
       "</table>\n",
       "</div>"
      ],
      "text/plain": [
       "                                   whiskey  \\\n",
       "0  Aberlour 12 Year Old Non Chill-filtered   \n",
       "1               Aberlour A'bunadh Batch 46   \n",
       "2               Aberlour A'bunadh Batch 47   \n",
       "3               Aberlour A'bunadh Batch 50   \n",
       "4                                Amrut Rye   \n",
       "\n",
       "                                                 url     age   bottler  price  \\\n",
       "0  http://www.lawhiskeysociety.com/whiskey-profil...  12 yrs  Aberlour   $50    \n",
       "1  http://www.lawhiskeysociety.com/whiskey-profil...     NaN        OB   $65    \n",
       "2  http://www.lawhiskeysociety.com/whiskey-profil...     NaN        OB   $65    \n",
       "3  http://www.lawhiskeysociety.com/whiskey-profil...     NaN        OB   $65    \n",
       "4  http://www.lawhiskeysociety.com/whiskey-profil...   5 yrs        OB  $180    \n",
       "\n",
       "  average_rating personal_rating  \n",
       "0              B              B-  \n",
       "1              B              B+  \n",
       "2              B               B  \n",
       "3              B               B  \n",
       "4             C+               B  "
      ]
     },
     "execution_count": 5,
     "metadata": {},
     "output_type": "execute_result"
    }
   ],
   "source": [
    "df_whiskey.head()"
   ]
  },
  {
   "cell_type": "code",
   "execution_count": 3,
   "metadata": {},
   "outputs": [],
   "source": [
    "# grades = {'A': 5, 'A-': 4.75, 'B+': 4.25, 'B': 4, 'B-': 3.75, 'C+': 3.25, 'C': 3, 'C-': 2.75, 'D+': 2.25, 'D': 2, 'D-': 1.75}"
   ]
  },
  {
   "cell_type": "code",
   "execution_count": 7,
   "metadata": {},
   "outputs": [],
   "source": [
    "grades = {'A': 5, 'A-': 4.5, 'B+': 4.25, 'B': 4, 'B-': 3.5, 'C+': 3.25, 'C': 3, 'C-': 2.5, 'D+': 2.25, 'D': 2, 'D-': 1.5}"
   ]
  },
  {
   "cell_type": "code",
   "execution_count": 6,
   "metadata": {},
   "outputs": [
    {
     "data": {
      "text/plain": [
       "B     89\n",
       "B-    42\n",
       "C+    40\n",
       "B+    32\n",
       "C     16\n",
       "A-     5\n",
       "C-     5\n",
       "D      3\n",
       "D+     3\n",
       "Name: average_rating, dtype: int64"
      ]
     },
     "execution_count": 6,
     "metadata": {},
     "output_type": "execute_result"
    }
   ],
   "source": [
    "df_whiskey['average_rating'].value_counts()"
   ]
  },
  {
   "cell_type": "code",
   "execution_count": 10,
   "metadata": {},
   "outputs": [],
   "source": [
    "df_whiskey['average_rating'] = df_whiskey['average_rating'].replace(grades)\n",
    "df_whiskey['personal_rating'] = df_whiskey['personal_rating'].replace(grades)"
   ]
  },
  {
   "cell_type": "code",
   "execution_count": 11,
   "metadata": {},
   "outputs": [
    {
     "data": {
      "text/html": [
       "<div>\n",
       "<style>\n",
       "    .dataframe thead tr:only-child th {\n",
       "        text-align: right;\n",
       "    }\n",
       "\n",
       "    .dataframe thead th {\n",
       "        text-align: left;\n",
       "    }\n",
       "\n",
       "    .dataframe tbody tr th {\n",
       "        vertical-align: top;\n",
       "    }\n",
       "</style>\n",
       "<table border=\"1\" class=\"dataframe\">\n",
       "  <thead>\n",
       "    <tr style=\"text-align: right;\">\n",
       "      <th></th>\n",
       "      <th>whiskey</th>\n",
       "      <th>url</th>\n",
       "      <th>age</th>\n",
       "      <th>bottler</th>\n",
       "      <th>price</th>\n",
       "      <th>average_rating</th>\n",
       "      <th>personal_rating</th>\n",
       "    </tr>\n",
       "  </thead>\n",
       "  <tbody>\n",
       "    <tr>\n",
       "      <th>0</th>\n",
       "      <td>Aberlour 12 Year Old Non Chill-filtered</td>\n",
       "      <td>http://www.lawhiskeysociety.com/whiskey-profil...</td>\n",
       "      <td>12 yrs</td>\n",
       "      <td>Aberlour</td>\n",
       "      <td>$50</td>\n",
       "      <td>4.00</td>\n",
       "      <td>3.50</td>\n",
       "    </tr>\n",
       "    <tr>\n",
       "      <th>1</th>\n",
       "      <td>Aberlour A'bunadh Batch 46</td>\n",
       "      <td>http://www.lawhiskeysociety.com/whiskey-profil...</td>\n",
       "      <td>NaN</td>\n",
       "      <td>OB</td>\n",
       "      <td>$65</td>\n",
       "      <td>4.00</td>\n",
       "      <td>4.25</td>\n",
       "    </tr>\n",
       "    <tr>\n",
       "      <th>2</th>\n",
       "      <td>Aberlour A'bunadh Batch 47</td>\n",
       "      <td>http://www.lawhiskeysociety.com/whiskey-profil...</td>\n",
       "      <td>NaN</td>\n",
       "      <td>OB</td>\n",
       "      <td>$65</td>\n",
       "      <td>4.00</td>\n",
       "      <td>4.00</td>\n",
       "    </tr>\n",
       "    <tr>\n",
       "      <th>3</th>\n",
       "      <td>Aberlour A'bunadh Batch 50</td>\n",
       "      <td>http://www.lawhiskeysociety.com/whiskey-profil...</td>\n",
       "      <td>NaN</td>\n",
       "      <td>OB</td>\n",
       "      <td>$65</td>\n",
       "      <td>4.00</td>\n",
       "      <td>4.00</td>\n",
       "    </tr>\n",
       "    <tr>\n",
       "      <th>4</th>\n",
       "      <td>Amrut Rye</td>\n",
       "      <td>http://www.lawhiskeysociety.com/whiskey-profil...</td>\n",
       "      <td>5 yrs</td>\n",
       "      <td>OB</td>\n",
       "      <td>$180</td>\n",
       "      <td>3.25</td>\n",
       "      <td>4.00</td>\n",
       "    </tr>\n",
       "  </tbody>\n",
       "</table>\n",
       "</div>"
      ],
      "text/plain": [
       "                                   whiskey  \\\n",
       "0  Aberlour 12 Year Old Non Chill-filtered   \n",
       "1               Aberlour A'bunadh Batch 46   \n",
       "2               Aberlour A'bunadh Batch 47   \n",
       "3               Aberlour A'bunadh Batch 50   \n",
       "4                                Amrut Rye   \n",
       "\n",
       "                                                 url     age   bottler  price  \\\n",
       "0  http://www.lawhiskeysociety.com/whiskey-profil...  12 yrs  Aberlour   $50    \n",
       "1  http://www.lawhiskeysociety.com/whiskey-profil...     NaN        OB   $65    \n",
       "2  http://www.lawhiskeysociety.com/whiskey-profil...     NaN        OB   $65    \n",
       "3  http://www.lawhiskeysociety.com/whiskey-profil...     NaN        OB   $65    \n",
       "4  http://www.lawhiskeysociety.com/whiskey-profil...   5 yrs        OB  $180    \n",
       "\n",
       "   average_rating  personal_rating  \n",
       "0            4.00             3.50  \n",
       "1            4.00             4.25  \n",
       "2            4.00             4.00  \n",
       "3            4.00             4.00  \n",
       "4            3.25             4.00  "
      ]
     },
     "execution_count": 11,
     "metadata": {},
     "output_type": "execute_result"
    }
   ],
   "source": [
    "df_whiskey.head()"
   ]
  },
  {
   "cell_type": "code",
   "execution_count": null,
   "metadata": {},
   "outputs": [],
   "source": []
  }
 ],
 "metadata": {
  "kernelspec": {
   "display_name": "Python 3",
   "language": "python",
   "name": "python3"
  },
  "language_info": {
   "codemirror_mode": {
    "name": "ipython",
    "version": 3
   },
   "file_extension": ".py",
   "mimetype": "text/x-python",
   "name": "python",
   "nbconvert_exporter": "python",
   "pygments_lexer": "ipython3",
   "version": "3.6.3"
  }
 },
 "nbformat": 4,
 "nbformat_minor": 2
}
