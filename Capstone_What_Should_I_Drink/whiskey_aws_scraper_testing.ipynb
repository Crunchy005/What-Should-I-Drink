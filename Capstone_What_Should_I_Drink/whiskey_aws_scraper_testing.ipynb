{
 "cells": [
  {
   "cell_type": "code",
   "execution_count": 1,
   "metadata": {},
   "outputs": [],
   "source": [
    "import pandas as pd\n",
    "import requests\n",
    "from bs4 import BeautifulSoup\n",
    "from time import sleep\n",
    "import re\n",
    "\n",
    "df_whiskey = pd.read_csv('./Scraped_Data/df_whiskey.csv')"
   ]
  },
  {
   "cell_type": "code",
   "execution_count": 2,
   "metadata": {},
   "outputs": [],
   "source": [
    "def cleaner(string):\n",
    "    string = re.sub(',', '', string)\n",
    "    string = re.sub(' %', '', string)\n",
    "    string = re.sub('\\$', '', string)\n",
    "    return string\n",
    "\n",
    "grade_grabber = lambda x: re.search('images\\/letters\\/(.*)_', x).group(1)\n",
    "\n",
    "def get_whiskey_reviews(url):\n",
    "    sleep(2)\n",
    "    html = requests.get(url)\n",
    "    soup = BeautifulSoup(html.content, 'lxml')\n",
    "    \n",
    "    w_name  = cleaner(soup.find('div', {'class': 'titlePopup'}).text)\n",
    "    bottler = cleaner(soup.find_all('td', {'class': 'textValuePopup'})[0].text)\n",
    "    age     = cleaner(soup.find_all('td', {'class': 'textValuePopup'})[1].text)\n",
    "    w_type  = cleaner(soup.find_all('td', {'class': 'textValuePopup'})[2].text)\n",
    "    vint    = cleaner(soup.find_all('td', {'class': 'textValuePopup'})[3].text)\n",
    "    subt    = cleaner(soup.find_all('td', {'class': 'textValuePopup'})[4].text)\n",
    "    abv     = cleaner(soup.find_all('td', {'class': 'textValuePopup'})[5].text)\n",
    "    region  = cleaner(soup.find_all('td', {'class': 'textValuePopup'})[6].text)\n",
    "    price   = cleaner(soup.find_all('td', {'class': 'textValuePopup'})[7].text)\n",
    "    avaib   = cleaner(soup.find_all('td', {'class': 'textValuePopup'})[8].text)\n",
    "\n",
    "    username = []\n",
    "    for i in soup.find_all('td', {'class':'contentCell2Popup', 'width':'40'}):\n",
    "        username.append(cleaner(i.text))\n",
    "\n",
    "    grade = []\n",
    "    for i in soup.find_all('td', {'class':'contentCell2Popup'}):\n",
    "        for x in i.find_all('img',{'src':True}):\n",
    "            grade.append(grade_grabber(x.attrs['src']))\n",
    "\n",
    "    review = []\n",
    "    for i in soup.find_all('td', {'class':'contentCell2Popup', 'align':'left'}):\n",
    "        review.append(cleaner(i.text))\n",
    "    \n",
    "\n",
    "    for i in range(0,len(username)):        \n",
    "        master_list = [username[i], grade[i], review[i], w_name, bottler, age, w_type, vint, subt, abv, region, price, avaib, url]\n",
    "        with open('./aws_whiskey_reviews.csv', 'a+') as f:\n",
    "            print(','.join(master_list), file=f)"
   ]
  },
  {
   "cell_type": "code",
   "execution_count": 3,
   "metadata": {},
   "outputs": [
    {
     "data": {
      "text/plain": [
       "0    None\n",
       "1    None\n",
       "Name: url, dtype: object"
      ]
     },
     "execution_count": 3,
     "metadata": {},
     "output_type": "execute_result"
    }
   ],
   "source": [
    "df_whiskey['url'][0:2].apply(get_whiskey_reviews)"
   ]
  },
  {
   "cell_type": "code",
   "execution_count": null,
   "metadata": {},
   "outputs": [],
   "source": []
  }
 ],
 "metadata": {
  "kernelspec": {
   "display_name": "Python 3",
   "language": "python",
   "name": "python3"
  },
  "language_info": {
   "codemirror_mode": {
    "name": "ipython",
    "version": 3
   },
   "file_extension": ".py",
   "mimetype": "text/x-python",
   "name": "python",
   "nbconvert_exporter": "python",
   "pygments_lexer": "ipython3",
   "version": "3.6.3"
  }
 },
 "nbformat": 4,
 "nbformat_minor": 2
}
