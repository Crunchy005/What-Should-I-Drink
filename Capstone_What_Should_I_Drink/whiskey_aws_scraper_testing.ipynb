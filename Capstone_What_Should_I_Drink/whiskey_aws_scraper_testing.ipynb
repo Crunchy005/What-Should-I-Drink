{
 "cells": [
  {
   "cell_type": "code",
   "execution_count": 1,
   "metadata": {},
   "outputs": [],
   "source": [
    "import pandas as pd\n",
    "import requests\n",
    "from bs4 import BeautifulSoup\n",
    "from time import sleep\n",
    "import re\n",
    "\n",
    "df_whiskey = pd.read_csv('./Scraped_Data/df_whiskey.csv')"
   ]
  },
  {
   "cell_type": "code",
   "execution_count": 2,
   "metadata": {},
   "outputs": [],
   "source": [
    "def cleaner(string):\n",
    "    string = re.sub(',', '', string)\n",
    "    string = re.sub(' %', '', string)\n",
    "    string = re.sub('\\$', '', string)\n",
    "    string = re.sub('\\n', ' ', string)\n",
    "    return string\n",
    "\n",
    "grade_grabber = lambda x: re.search('images\\/letters\\/(.*)_', x).group(1)\n",
    "\n",
    "def get_whiskey_reviews(url):\n",
    "    sleep(10)\n",
    "    html = requests.get(url)\n",
    "    soup = BeautifulSoup(html.content, 'lxml')\n",
    "    \n",
    "    w_name  = cleaner(soup.find('div', {'class': 'titlePopup'}).text)\n",
    "    bottler = cleaner(soup.find_all('td', {'class': 'textValuePopup'})[0].text)\n",
    "    age     = cleaner(soup.find_all('td', {'class': 'textValuePopup'})[1].text)\n",
    "    w_type  = cleaner(soup.find_all('td', {'class': 'textValuePopup'})[2].text)\n",
    "    vint    = cleaner(soup.find_all('td', {'class': 'textValuePopup'})[3].text)\n",
    "    subt    = cleaner(soup.find_all('td', {'class': 'textValuePopup'})[4].text)\n",
    "    abv     = cleaner(soup.find_all('td', {'class': 'textValuePopup'})[5].text)\n",
    "    region  = cleaner(soup.find_all('td', {'class': 'textValuePopup'})[6].text)\n",
    "    price   = cleaner(soup.find_all('td', {'class': 'textValuePopup'})[7].text)\n",
    "    avaib   = cleaner(soup.find_all('td', {'class': 'textValuePopup'})[8].text)\n",
    "\n",
    "    username = []\n",
    "    for i in soup.find_all('td', {'class':'contentCell2Popup', 'width':'40'}):\n",
    "        username.append(cleaner(i.text))\n",
    "\n",
    "    grade = []\n",
    "    for i in soup.find_all('td', {'class':'contentCell2Popup'}):\n",
    "        for x in i.find_all('img',{'src':True}):\n",
    "            try:\n",
    "                grade.append(grade_grabber(x.attrs['src']))\n",
    "            except:\n",
    "                grade.append('No Grade')\n",
    "\n",
    "    review = []\n",
    "    for i in soup.find_all('td', {'class':'contentCell2Popup', 'align':'left'}):\n",
    "        review.append(cleaner(i.text))\n",
    "           \n",
    "\n",
    "    for i in range(0,len(username)):        \n",
    "        master_list = [username[i], grade[i], review[i], w_name, bottler, age, w_type, vint, subt, abv, region, price, avaib, url]\n",
    "        print(master_list)\n",
    "#         with open('./aws_whiskey_reviews.csv', 'a+') as f:\n",
    "#             print(','.join(master_list), file=f)"
   ]
  },
  {
   "cell_type": "code",
   "execution_count": 27,
   "metadata": {},
   "outputs": [
    {
     "name": "stdout",
     "output_type": "stream",
     "text": [
      "Corsair \"Buck Yeah\" American Whiskey http://www.lawhiskeysociety.com/whiskey-profile/3454/Corsair-Buck-Yeah-American-Whiskey\n",
      "['Ries', 'bminus', 'n: moist wheat bread damp wood some orange citrus. The buckwheat is main element - smells like wheat in a very damp field.\\xa0t: soft and nicely semi-sweet initially but the middle is where the buckwheat asserts itself; it has a day old coffee taste to it. Kinda sweet + bitter + sour all at the same time with some vanilla creamer. Campfire burnt marshmallow and dark chocolate covered coffee bean finish. Interesting I like the experimental aspect to this. \\xa0[B-.]', 'Corsair \"Buck Yeah\" American Whiskey', 'Corsair', 'N/A', 'American', 'N/A', 'Other', '46.00', '', '65', 'Wide', 'http://www.lawhiskeysociety.com/whiskey-profile/3454/Corsair-Buck-Yeah-American-Whiskey']\n",
      "['Andy', 'bminus', \"n: Four grain bread dough.\\xa0 Bit of honey.\\xa0p:\\xa0 Sourdough bread.\\xa0 Raw grains and lemon.\\xa0 Very sweet in the finish.\\xa0 Kero syrup-y.\\xa0 Wierd but not offensive.\\xa0 Just different. \\xa0Who shot Buckwheat?\\xa0 Guess that's me. \\xa0 \\xa0\", 'Corsair \"Buck Yeah\" American Whiskey', 'Corsair', 'N/A', 'American', 'N/A', 'Other', '46.00', '', '65', 'Wide', 'http://www.lawhiskeysociety.com/whiskey-profile/3454/Corsair-Buck-Yeah-American-Whiskey']\n",
      "Corsair Citra Double IPA http://www.lawhiskeysociety.com/whiskey-profile/3740/Corsair-Citra-Double-IPA\n",
      "['Andy', 'b', 'n: \\xa0Fortune Teller perfume\\xa0p: \\xa0Sweet odd and perfumey\\xa0', 'Corsair Citra Double IPA', 'OB', 'N/A', 'American', 'N/A', 'Single Malt', '43.00', 'Tennessee', '65', 'Specialty Stores', 'http://www.lawhiskeysociety.com/whiskey-profile/3740/Corsair-Citra-Double-IPA']\n"
     ]
    },
    {
     "data": {
      "text/plain": [
       "66    None\n",
       "67    None\n",
       "Name: url, dtype: object"
      ]
     },
     "execution_count": 27,
     "metadata": {},
     "output_type": "execute_result"
    }
   ],
   "source": [
    "df_whiskey['url'][66:68].apply(get_whiskey_reviews)"
   ]
  },
  {
   "cell_type": "code",
   "execution_count": 13,
   "metadata": {},
   "outputs": [
    {
     "data": {
      "text/plain": [
       "(235, 7)"
      ]
     },
     "execution_count": 13,
     "metadata": {},
     "output_type": "execute_result"
    }
   ],
   "source": [
    "df_whiskey.shape"
   ]
  },
  {
   "cell_type": "code",
   "execution_count": 7,
   "metadata": {},
   "outputs": [
    {
     "data": {
      "text/plain": [
       "66                  Corsair \"Buck Yeah\" American Whiskey\n",
       "67                              Corsair Citra Double IPA\n",
       "68                                        Corsair Mosaic\n",
       "69                           Corsair Oatrage Oat Whiskey\n",
       "70              Corsair Ryemageddon American Rye Whiskey\n",
       "71                      Corti Brothers Exquisite Whiskey\n",
       "72                  Cragganmore 1989 Faultline (for k&l)\n",
       "73                                      Craigellachie 13\n",
       "74                   Craigellachie 1995 Hepburn's Choice\n",
       "75                      Crown Royal Northern Harvest Rye\n",
       "76     Darkness! Aberlour 20 Year Old Pedro Ximenez C...\n",
       "77                                      Drayman's Solera\n",
       "78            Edradour 2000 Sauternes Binny's Handpicked\n",
       "79                  Edradour Ballechin 10 Heavily Peated\n",
       "80                                  Edradour Barolo Cask\n",
       "81                                 Edradour Caledonia 12\n",
       "82                              Faultline Blended Scotch\n",
       "83                           Few Single Malt Whisky 14-9\n",
       "84                         Flaming Heart Limited Edition\n",
       "85                                 Girvan 1990 Sovereign\n",
       "86                             Glen Garioch 1998 for K&L\n",
       "87             Glen Keith 1995 Signatory Unchillfiltered\n",
       "88                       Glen Ord 1998 Signatory Vintage\n",
       "89                             Glen Scotia 21 MacPhail's\n",
       "90                               Glen Scotia 93.61 SMWSA\n",
       "91                               Glen Scotia Double Cask\n",
       "92                                Glen Scotia Victoriana\n",
       "93                           Glencadam 14 Oloroso Finish\n",
       "94                                          Glencadam 15\n",
       "95                                          Glencadam 21\n",
       "                             ...                        \n",
       "205                                        Talisker Skye\n",
       "206                           Tamdhu 1998 Old Particular\n",
       "207           Tasmanian Heartwood - Four Corners of Ross\n",
       "208                                        The Big Smoke\n",
       "209                             The Exclusive Blend 1980\n",
       "210                                     The Gifted Horse\n",
       "211                                        The Six Isles\n",
       "212                          This is Not a Luxury Whisky\n",
       "213                                     Thomson Two Tone\n",
       "214                           Tobermory 1994 The Maltman\n",
       "215                        Tobermory 1996 Old Particular\n",
       "216        Tobermory 2004 Smoky & Peaty Hepburn's Choice\n",
       "217                     Tomatin 1994 Blackadder Raw Cask\n",
       "218                                           Tomatin 30\n",
       "219                                     Tomatin Cu Bocan\n",
       "220                     Tomintoul 2001 Malts of Scotland\n",
       "221           Trader Joe's Single Malt Irish Whiskey 8yr\n",
       "222                 Tullibardine 1998 Sherry Wood Finish\n",
       "223                        Undisclosed Islay 2nd release\n",
       "224                      Virginia Lightning Corn Whiskey\n",
       "225                                        Waitui Manuka\n",
       "226                                Wemyss Peat Chimney 8\n",
       "227                     Westland 2012 Single Cask Nation\n",
       "228                             Westland 2nd Release SCN\n",
       "229                                    Westland Garryana\n",
       "230                          Westland Peated 3rd Release\n",
       "231                                     White Oak Akashi\n",
       "232                         White Oak Akashi Single Malt\n",
       "233                            Wild Turkey Master's Keep\n",
       "234              Willett Family Estate 25yr Barrel #2876\n",
       "Name: whiskey, Length: 169, dtype: object"
      ]
     },
     "execution_count": 7,
     "metadata": {},
     "output_type": "execute_result"
    }
   ],
   "source": [
    "df_whiskey['whiskey'][66:]"
   ]
  },
  {
   "cell_type": "code",
   "execution_count": null,
   "metadata": {},
   "outputs": [],
   "source": []
  }
 ],
 "metadata": {
  "kernelspec": {
   "display_name": "Python 3",
   "language": "python",
   "name": "python3"
  },
  "language_info": {
   "codemirror_mode": {
    "name": "ipython",
    "version": 3
   },
   "file_extension": ".py",
   "mimetype": "text/x-python",
   "name": "python",
   "nbconvert_exporter": "python",
   "pygments_lexer": "ipython3",
   "version": "3.6.3"
  }
 },
 "nbformat": 4,
 "nbformat_minor": 2
}
