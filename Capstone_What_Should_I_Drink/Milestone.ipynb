{
 "cells": [
  {
   "cell_type": "markdown",
   "metadata": {},
   "source": [
    "Begin with an executive summary:\n",
    "\n",
    "    What is your goal?\n",
    "    What are your metrics?\n",
    "    What were your findings?\n",
    "    What risks/limitations/assumptions affect these findings?\n",
    "Summarize your statistical analysis, including:\n",
    "\n",
    "    implementation\n",
    "    evaluation\n",
    "    inference\n",
    "Clearly document and label each section\n",
    "\n",
    "    Logically organize your information in a persuasive, informative manner\n",
    "    Include notebook headers and subheaders, as well as clearly formatted markdown for all written components\n",
    "    Include graphs/plots/visualizations with clear labels\n",
    "    Comment and explain the purpose of each major section/subsection of your code\n",
    "        Document your code for your future self, as if another person needed to replicate your approach\n",
    "Host your notebook and any other materials in your own public Github Repository\n",
    "\n",
    "    Include a technical appendix, inlcuding links and explanations to any outside libraries or source code used\n",
    "    Host a local copy of your dataset or include a link to a remotely hosted version"
   ]
  },
  {
   "cell_type": "code",
   "execution_count": null,
   "metadata": {},
   "outputs": [],
   "source": []
  }
 ],
 "metadata": {
  "kernelspec": {
   "display_name": "Python 3",
   "language": "python",
   "name": "python3"
  },
  "language_info": {
   "codemirror_mode": {
    "name": "ipython",
    "version": 3
   },
   "file_extension": ".py",
   "mimetype": "text/x-python",
   "name": "python",
   "nbconvert_exporter": "python",
   "pygments_lexer": "ipython3",
   "version": "3.6.3"
  }
 },
 "nbformat": 4,
 "nbformat_minor": 2
}
