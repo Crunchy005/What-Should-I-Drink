{
 "cells": [
  {
   "cell_type": "code",
   "execution_count": 1,
   "metadata": {},
   "outputs": [],
   "source": [
    "import pandas as pd\n",
    "\n",
    "from sklearn.feature_extraction.text import CountVectorizer\n",
    "from nltk.corpus import stopwords\n",
    "\n",
    "import matplotlib.pyplot as plt\n",
    "\n",
    "# plt.style.use('default')\n",
    "plt.style.use('dark_background')\n",
    "%matplotlib inline"
   ]
  },
  {
   "cell_type": "code",
   "execution_count": 2,
   "metadata": {},
   "outputs": [],
   "source": [
    "df_beer = pd.read_csv('./Scraped_Data/df_beer.csv', encoding='latin1')\n",
    "df_reviews1 = pd.read_csv('./Scraped_Data/1_aws_user_reviews.csv', names=['number', 'url', 'score', 'breakdown', 'username', 'r_text'])\n",
    "df_reviews2 = pd.read_csv('./Scraped_Data/2_aws_user_reviews.csv', names=['number', 'url', 'score', 'breakdown', 'username', 'r_text'])"
   ]
  },
  {
   "cell_type": "markdown",
   "metadata": {},
   "source": [
    "## EDA"
   ]
  },
  {
   "cell_type": "code",
   "execution_count": 3,
   "metadata": {},
   "outputs": [
    {
     "data": {
      "text/plain": [
       "Union Jack IPA                          1\n",
       "120 Minute IPA                          1\n",
       "Sierra Nevada Porter                    1\n",
       "Miles Davis' Bitches Brew               1\n",
       "Abrasive Ale                            1\n",
       "Double Trouble                          1\n",
       "CBS (Canadian Breakfast Stout)          1\n",
       "Alpha King                              1\n",
       "Rübæus                                  1\n",
       "Blind Pig IPA                           1\n",
       "Bigfoot Barleywine-Style Ale            1\n",
       "Curieux (Bourbon Barrel-Aged Tripel)    1\n",
       "Duvel Belgian Golden Ale                1\n",
       "Shock Top Belgian White                 1\n",
       "Edmund Fitzgerald Porter                1\n",
       "75 Minute IPA                           1\n",
       "La Fin Du Monde                         1\n",
       "Bourbon County Brand Stout              1\n",
       "Orval Trappist Ale                      1\n",
       "Racer 5 India Pale Ale                  1\n",
       "Palate Wrecker                          1\n",
       "Bourbon County Brand Barleywine Ale     1\n",
       "AleSmith IPA                            1\n",
       "§ucaba                                  1\n",
       "Sierra Nevada Hoptimum Imperial IPA     1\n",
       "Blackout Stout                          1\n",
       "Sweetwater 420 Extra Pale Ale           1\n",
       "Fresh Squeezed IPA                      1\n",
       "Paulaner Hefe-Weissbier Naturtrüb       1\n",
       "1554 Black Lager                        1\n",
       "                                       ..\n",
       "Bell's Special Double Cream Stout       1\n",
       "Honker's Ale                            1\n",
       "Maudite                                 1\n",
       "Anchor Liberty Ale                      1\n",
       "Red's Rye IPA                           1\n",
       "Westmalle Trappist Tripel               1\n",
       "The Abyss                               1\n",
       "Fat Head's Head Hunter IPA              1\n",
       "Loose Cannon Hop3 IPA                   1\n",
       "Temptation                              1\n",
       "Spotted Cow                             1\n",
       "Cappuccino Stout                        1\n",
       "Cantillon Gueuze 100% Lambic            1\n",
       "Pumking                                 1\n",
       "Abbey Ale                               1\n",
       "Celebration Fresh Hop IPA               1\n",
       "Plead The 5th Imperial Stout            1\n",
       "Prima Pils                              1\n",
       "Ten FIDY                                1\n",
       "Raspberry Tart                          1\n",
       "Bud Light                               1\n",
       "Saison Dupont                           1\n",
       "Leinenkugel's Summer Shandy             1\n",
       "Sip Of Sunshine IPA                     1\n",
       "Lef Hand Brewing Milk Stout             1\n",
       "2XIPA                                   1\n",
       "Dead Guy Ale                            1\n",
       "Trappistes Rochefort 10                 1\n",
       "Nelson                                  1\n",
       "Raging Bitch Belgian-Style IPA          1\n",
       "Name: name, Length: 250, dtype: int64"
      ]
     },
     "execution_count": 3,
     "metadata": {},
     "output_type": "execute_result"
    }
   ],
   "source": [
    "# double check that there are no duplicate names\n",
    "df_beer['name'].value_counts(ascending=True)"
   ]
  },
  {
   "cell_type": "code",
   "execution_count": 4,
   "metadata": {},
   "outputs": [
    {
     "data": {
      "text/plain": [
       "American IPA                        45\n",
       "American Double / Imperial IPA      26\n",
       "American Double / Imperial Stout    22\n",
       "Russian Imperial Stout              13\n",
       "American Pale Ale (APA)              8\n",
       "American Porter                      7\n",
       "Belgian Strong Dark Ale              7\n",
       "Fruit / Vegetable Beer               6\n",
       "Tripel                               6\n",
       "American Strong Ale                  5\n",
       "American Stout                       5\n",
       "American Pale Wheat Ale              5\n",
       "Saison / Farmhouse Ale               4\n",
       "Belgian Strong Pale Ale              4\n",
       "Milk / Sweet Stout                   4\n",
       "Quadrupel (Quad)                     4\n",
       "Witbier                              4\n",
       "Hefeweizen                           4\n",
       "American Adjunct Lager               4\n",
       "Light Lager                          3\n",
       "Belgian IPA                          3\n",
       "American Wild Ale                    3\n",
       "American Brown Ale                   3\n",
       "Scotch Ale / Wee Heavy               3\n",
       "American Amber / Red Ale             3\n",
       "Irish Dry Stout                      2\n",
       "Pumpkin Ale                          2\n",
       "Oatmeal Stout                        2\n",
       "Dubbel                               2\n",
       "English Barleywine                   2\n",
       "Belgian Pale Ale                     2\n",
       "Weizenbock                           2\n",
       "American Amber / Red Lager           2\n",
       "Flanders Red Ale                     2\n",
       "Euro Pale Lager                      2\n",
       "English India Pale Ale (IPA)         2\n",
       "American Black Ale                   2\n",
       "German Pilsener                      2\n",
       "Czech Pilsener                       2\n",
       "Bock                                 2\n",
       "English Brown Ale                    2\n",
       "Maibock / Helles Bock                1\n",
       "Smoked Beer                          1\n",
       "Euro Dark Lager                      1\n",
       "Rye Beer                             1\n",
       "Märzen / Oktoberfest                 1\n",
       "Herbed / Spiced Beer                 1\n",
       "American Barleywine                  1\n",
       "English Bitter                       1\n",
       "Cream Ale                            1\n",
       "Flanders Oud Bruin                   1\n",
       "Vienna Lager                         1\n",
       "Doppelbock                           1\n",
       "Gueuze                               1\n",
       "California Common / Steam Beer       1\n",
       "Berliner Weissbier                   1\n",
       "Winter Warmer                        1\n",
       "Old Ale                              1\n",
       "Name: style, dtype: int64"
      ]
     },
     "execution_count": 4,
     "metadata": {},
     "output_type": "execute_result"
    }
   ],
   "source": [
    "# looking at style of beers\n",
    "df_beer['style'].value_counts()"
   ]
  },
  {
   "cell_type": "code",
   "execution_count": 5,
   "metadata": {},
   "outputs": [
    {
     "name": "stdout",
     "output_type": "stream",
     "text": [
      "IPA  76\n",
      "Porter  7\n",
      "Stout  48\n",
      "Lager  13\n",
      "Ale  59\n"
     ]
    }
   ],
   "source": [
    "print(\"IPA \", df_beer['style'].str.contains('IPA').value_counts()[1])\n",
    "print(\"Porter \", df_beer['style'].str.contains('Porter').value_counts()[1])\n",
    "print(\"Stout \", df_beer['style'].str.contains('Stout').value_counts()[1])\n",
    "print(\"Lager \", df_beer['style'].str.contains('Lager').value_counts()[1])\n",
    "print(\"Ale \", df_beer['style'].str.contains('Ale').value_counts()[1])"
   ]
  },
  {
   "cell_type": "code",
   "execution_count": 3,
   "metadata": {},
   "outputs": [],
   "source": [
    "df_reviews1 = df_reviews1.drop('number', axis=1)\n",
    "df_reviews2 = df_reviews2.drop('number', axis=1)"
   ]
  },
  {
   "cell_type": "code",
   "execution_count": 4,
   "metadata": {},
   "outputs": [],
   "source": [
    "# stack the reviews into 1 df\n",
    "df_reviews = df_reviews1.append(df_reviews2)"
   ]
  },
  {
   "cell_type": "code",
   "execution_count": 5,
   "metadata": {},
   "outputs": [],
   "source": [
    "# everything that the scraper correctly scraped\n",
    "df_useable = df_reviews[df_reviews['breakdown'].str.contains('look:') == True].copy()"
   ]
  },
  {
   "cell_type": "code",
   "execution_count": 9,
   "metadata": {},
   "outputs": [
    {
     "data": {
      "text/plain": [
       "28951"
      ]
     },
     "execution_count": 9,
     "metadata": {},
     "output_type": "execute_result"
    }
   ],
   "source": [
    "# number of useable rows\n",
    "df_reviews.shape[0] - df_useable.shape[0]"
   ]
  },
  {
   "cell_type": "code",
   "execution_count": 6,
   "metadata": {},
   "outputs": [],
   "source": [
    "df_has_review = df_useable[df_useable['r_text'].str.contains('No Review') == False].copy()"
   ]
  },
  {
   "cell_type": "code",
   "execution_count": 11,
   "metadata": {},
   "outputs": [],
   "source": [
    "df_no_review = df_useable[df_useable['r_text'].str.contains('No Review') == True].copy()"
   ]
  },
  {
   "cell_type": "code",
   "execution_count": 12,
   "metadata": {},
   "outputs": [
    {
     "name": "stdout",
     "output_type": "stream",
     "text": [
      "Has review average score 4.240229877216896 \n",
      "No review average score 4.239426436321901\n"
     ]
    }
   ],
   "source": [
    "# Do people who leave reviews tend to score better?\n",
    "print('Has review average score', df_has_review['score'].mean(), '\\nNo review average score', df_no_review['score'].mean())"
   ]
  },
  {
   "cell_type": "code",
   "execution_count": 13,
   "metadata": {},
   "outputs": [
    {
     "data": {
      "text/plain": [
       "318.69565217391306"
      ]
     },
     "execution_count": 13,
     "metadata": {},
     "output_type": "execute_result"
    }
   ],
   "source": [
    "# possible number of reviews per beer\n",
    "df_has_review.shape[0]/len(df_reviews['url'].unique())"
   ]
  },
  {
   "cell_type": "code",
   "execution_count": 14,
   "metadata": {},
   "outputs": [
    {
     "data": {
      "text/plain": [
       "5     Coffee forward beer that is good but not great...\n",
       "7     poured from the tap of my kegerator into a por...\n",
       "10    Look Founders sure craft some of the best \"loo...\n",
       "11    An exceptional stout the flavor is balanced an...\n",
       "18    Its yummy and dark.  I like my beers yummy and...\n",
       "Name: r_text, dtype: object"
      ]
     },
     "execution_count": 14,
     "metadata": {},
     "output_type": "execute_result"
    }
   ],
   "source": [
    "df_has_review['r_text'].head()"
   ]
  },
  {
   "cell_type": "markdown",
   "metadata": {},
   "source": [
    "### Ngrams"
   ]
  },
  {
   "cell_type": "code",
   "execution_count": 1,
   "metadata": {},
   "outputs": [],
   "source": [
    "import pandas as pd\n",
    "\n",
    "from sklearn.feature_extraction.text import CountVectorizer\n",
    "from nltk.corpus import stopwords\n",
    "\n",
    "import matplotlib.pyplot as plt\n",
    "\n",
    "# plt.style.use('default')\n",
    "plt.style.use('dark_background')\n",
    "%matplotlib inline\n",
    "\n",
    "df_reviews1 = pd.read_csv('./Scraped_Data/1_aws_user_reviews.csv', names=['number', 'url', 'score', 'breakdown', 'username', 'r_text'])\n",
    "df_reviews2 = pd.read_csv('./Scraped_Data/2_aws_user_reviews.csv', names=['number', 'url', 'score', 'breakdown', 'username', 'r_text'])\n",
    "df_reviews1 = df_reviews1.drop('number', axis=1)\n",
    "df_reviews2 = df_reviews2.drop('number', axis=1)\n",
    "df_reviews = df_reviews1.append(df_reviews2)\n",
    "df_useable = df_reviews[df_reviews['breakdown'].str.contains('look:') == True].copy()\n",
    "df_has_review = df_useable[df_useable['r_text'].str.contains('No Review') == False].copy()"
   ]
  },
  {
   "cell_type": "code",
   "execution_count": 5,
   "metadata": {},
   "outputs": [
    {
     "data": {
      "text/plain": [
       "(87199, 5)"
      ]
     },
     "execution_count": 5,
     "metadata": {},
     "output_type": "execute_result"
    }
   ],
   "source": [
    "df_useable.shape"
   ]
  },
  {
   "cell_type": "code",
   "execution_count": 2,
   "metadata": {},
   "outputs": [],
   "source": [
    "stop = stopwords.words('english')"
   ]
  },
  {
   "cell_type": "code",
   "execution_count": 6,
   "metadata": {},
   "outputs": [
    {
     "data": {
      "text/plain": [
       "<matplotlib.axes._subplots.AxesSubplot at 0x278a3fcea90>"
      ]
     },
     "execution_count": 6,
     "metadata": {},
     "output_type": "execute_result"
    },
    {
     "data": {
      "image/png": "[encoded data removed]",
      "text/plain": [
       "<matplotlib.figure.Figure at 0x278a3fe3710>"
      ]
     },
     "metadata": {},
     "output_type": "display_data"
    }
   ],
   "source": [
    "vect = CountVectorizer(ngram_range=(1,1), stop_words=stop)\n",
    "X = vect.fit_transform(df_has_review['r_text'])\n",
    "\n",
    "ngram_text = pd.DataFrame(X.toarray(), columns=vect.get_feature_names())\n",
    "\n",
    "ngram_text.sum().sort_values(ascending=False).head(20).plot(kind=\"barh\")"
   ]
  },
  {
   "cell_type": "code",
   "execution_count": 4,
   "metadata": {},
   "outputs": [
    {
     "ename": "MemoryError",
     "evalue": "",
     "output_type": "error",
     "traceback": [
      "\u001b[1;31m---------------------------------------------------------------------------\u001b[0m",
      "\u001b[1;31mMemoryError\u001b[0m                               Traceback (most recent call last)",
      "\u001b[1;32m<ipython-input-4-623cc76a8543>\u001b[0m in \u001b[0;36m<module>\u001b[1;34m()\u001b[0m\n\u001b[0;32m      3\u001b[0m \u001b[0mX\u001b[0m \u001b[1;33m=\u001b[0m \u001b[0mvect\u001b[0m\u001b[1;33m.\u001b[0m\u001b[0mfit_transform\u001b[0m\u001b[1;33m(\u001b[0m\u001b[0mdf_has_review\u001b[0m\u001b[1;33m[\u001b[0m\u001b[1;34m'r_text'\u001b[0m\u001b[1;33m]\u001b[0m\u001b[1;33m)\u001b[0m\u001b[1;33m\u001b[0m\u001b[0m\n\u001b[0;32m      4\u001b[0m \u001b[1;33m\u001b[0m\u001b[0m\n\u001b[1;32m----> 5\u001b[1;33m \u001b[0mngram_text\u001b[0m \u001b[1;33m=\u001b[0m \u001b[0mpd\u001b[0m\u001b[1;33m.\u001b[0m\u001b[0mDataFrame\u001b[0m\u001b[1;33m(\u001b[0m\u001b[0mX\u001b[0m\u001b[1;33m.\u001b[0m\u001b[0mtoarray\u001b[0m\u001b[1;33m(\u001b[0m\u001b[1;33m)\u001b[0m\u001b[1;33m,\u001b[0m \u001b[0mcolumns\u001b[0m\u001b[1;33m=\u001b[0m\u001b[0mvect\u001b[0m\u001b[1;33m.\u001b[0m\u001b[0mget_feature_names\u001b[0m\u001b[1;33m(\u001b[0m\u001b[1;33m)\u001b[0m\u001b[1;33m)\u001b[0m\u001b[1;33m\u001b[0m\u001b[0m\n\u001b[0m\u001b[0;32m      6\u001b[0m \u001b[1;33m\u001b[0m\u001b[0m\n\u001b[0;32m      7\u001b[0m \u001b[0mngram_text\u001b[0m\u001b[1;33m.\u001b[0m\u001b[0msum\u001b[0m\u001b[1;33m(\u001b[0m\u001b[1;33m)\u001b[0m\u001b[1;33m.\u001b[0m\u001b[0msort_values\u001b[0m\u001b[1;33m(\u001b[0m\u001b[0mascending\u001b[0m\u001b[1;33m=\u001b[0m\u001b[1;32mFalse\u001b[0m\u001b[1;33m)\u001b[0m\u001b[1;33m.\u001b[0m\u001b[0mhead\u001b[0m\u001b[1;33m(\u001b[0m\u001b[1;36m20\u001b[0m\u001b[1;33m)\u001b[0m\u001b[1;33m.\u001b[0m\u001b[0mplot\u001b[0m\u001b[1;33m(\u001b[0m\u001b[0mkind\u001b[0m\u001b[1;33m=\u001b[0m\u001b[1;34m\"barh\"\u001b[0m\u001b[1;33m)\u001b[0m\u001b[1;33m\u001b[0m\u001b[0m\n",
      "\u001b[1;32m~\\Anaconda3\\lib\\site-packages\\scipy\\sparse\\compressed.py\u001b[0m in \u001b[0;36mtoarray\u001b[1;34m(self, order, out)\u001b[0m\n\u001b[0;32m    962\u001b[0m     \u001b[1;32mdef\u001b[0m \u001b[0mtoarray\u001b[0m\u001b[1;33m(\u001b[0m\u001b[0mself\u001b[0m\u001b[1;33m,\u001b[0m \u001b[0morder\u001b[0m\u001b[1;33m=\u001b[0m\u001b[1;32mNone\u001b[0m\u001b[1;33m,\u001b[0m \u001b[0mout\u001b[0m\u001b[1;33m=\u001b[0m\u001b[1;32mNone\u001b[0m\u001b[1;33m)\u001b[0m\u001b[1;33m:\u001b[0m\u001b[1;33m\u001b[0m\u001b[0m\n\u001b[0;32m    963\u001b[0m         \u001b[1;34m\"\"\"See the docstring for `spmatrix.toarray`.\"\"\"\u001b[0m\u001b[1;33m\u001b[0m\u001b[0m\n\u001b[1;32m--> 964\u001b[1;33m         \u001b[1;32mreturn\u001b[0m \u001b[0mself\u001b[0m\u001b[1;33m.\u001b[0m\u001b[0mtocoo\u001b[0m\u001b[1;33m(\u001b[0m\u001b[0mcopy\u001b[0m\u001b[1;33m=\u001b[0m\u001b[1;32mFalse\u001b[0m\u001b[1;33m)\u001b[0m\u001b[1;33m.\u001b[0m\u001b[0mtoarray\u001b[0m\u001b[1;33m(\u001b[0m\u001b[0morder\u001b[0m\u001b[1;33m=\u001b[0m\u001b[0morder\u001b[0m\u001b[1;33m,\u001b[0m \u001b[0mout\u001b[0m\u001b[1;33m=\u001b[0m\u001b[0mout\u001b[0m\u001b[1;33m)\u001b[0m\u001b[1;33m\u001b[0m\u001b[0m\n\u001b[0m\u001b[0;32m    965\u001b[0m \u001b[1;33m\u001b[0m\u001b[0m\n\u001b[0;32m    966\u001b[0m     \u001b[1;31m##############################################################\u001b[0m\u001b[1;33m\u001b[0m\u001b[1;33m\u001b[0m\u001b[0m\n",
      "\u001b[1;32m~\\Anaconda3\\lib\\site-packages\\scipy\\sparse\\coo.py\u001b[0m in \u001b[0;36mtoarray\u001b[1;34m(self, order, out)\u001b[0m\n\u001b[0;32m    250\u001b[0m     \u001b[1;32mdef\u001b[0m \u001b[0mtoarray\u001b[0m\u001b[1;33m(\u001b[0m\u001b[0mself\u001b[0m\u001b[1;33m,\u001b[0m \u001b[0morder\u001b[0m\u001b[1;33m=\u001b[0m\u001b[1;32mNone\u001b[0m\u001b[1;33m,\u001b[0m \u001b[0mout\u001b[0m\u001b[1;33m=\u001b[0m\u001b[1;32mNone\u001b[0m\u001b[1;33m)\u001b[0m\u001b[1;33m:\u001b[0m\u001b[1;33m\u001b[0m\u001b[0m\n\u001b[0;32m    251\u001b[0m         \u001b[1;34m\"\"\"See the docstring for `spmatrix.toarray`.\"\"\"\u001b[0m\u001b[1;33m\u001b[0m\u001b[0m\n\u001b[1;32m--> 252\u001b[1;33m         \u001b[0mB\u001b[0m \u001b[1;33m=\u001b[0m \u001b[0mself\u001b[0m\u001b[1;33m.\u001b[0m\u001b[0m_process_toarray_args\u001b[0m\u001b[1;33m(\u001b[0m\u001b[0morder\u001b[0m\u001b[1;33m,\u001b[0m \u001b[0mout\u001b[0m\u001b[1;33m)\u001b[0m\u001b[1;33m\u001b[0m\u001b[0m\n\u001b[0m\u001b[0;32m    253\u001b[0m         \u001b[0mfortran\u001b[0m \u001b[1;33m=\u001b[0m \u001b[0mint\u001b[0m\u001b[1;33m(\u001b[0m\u001b[0mB\u001b[0m\u001b[1;33m.\u001b[0m\u001b[0mflags\u001b[0m\u001b[1;33m.\u001b[0m\u001b[0mf_contiguous\u001b[0m\u001b[1;33m)\u001b[0m\u001b[1;33m\u001b[0m\u001b[0m\n\u001b[0;32m    254\u001b[0m         \u001b[1;32mif\u001b[0m \u001b[1;32mnot\u001b[0m \u001b[0mfortran\u001b[0m \u001b[1;32mand\u001b[0m \u001b[1;32mnot\u001b[0m \u001b[0mB\u001b[0m\u001b[1;33m.\u001b[0m\u001b[0mflags\u001b[0m\u001b[1;33m.\u001b[0m\u001b[0mc_contiguous\u001b[0m\u001b[1;33m:\u001b[0m\u001b[1;33m\u001b[0m\u001b[0m\n",
      "\u001b[1;32m~\\Anaconda3\\lib\\site-packages\\scipy\\sparse\\base.py\u001b[0m in \u001b[0;36m_process_toarray_args\u001b[1;34m(self, order, out)\u001b[0m\n\u001b[0;32m   1037\u001b[0m             \u001b[1;32mreturn\u001b[0m \u001b[0mout\u001b[0m\u001b[1;33m\u001b[0m\u001b[0m\n\u001b[0;32m   1038\u001b[0m         \u001b[1;32melse\u001b[0m\u001b[1;33m:\u001b[0m\u001b[1;33m\u001b[0m\u001b[0m\n\u001b[1;32m-> 1039\u001b[1;33m             \u001b[1;32mreturn\u001b[0m \u001b[0mnp\u001b[0m\u001b[1;33m.\u001b[0m\u001b[0mzeros\u001b[0m\u001b[1;33m(\u001b[0m\u001b[0mself\u001b[0m\u001b[1;33m.\u001b[0m\u001b[0mshape\u001b[0m\u001b[1;33m,\u001b[0m \u001b[0mdtype\u001b[0m\u001b[1;33m=\u001b[0m\u001b[0mself\u001b[0m\u001b[1;33m.\u001b[0m\u001b[0mdtype\u001b[0m\u001b[1;33m,\u001b[0m \u001b[0morder\u001b[0m\u001b[1;33m=\u001b[0m\u001b[0morder\u001b[0m\u001b[1;33m)\u001b[0m\u001b[1;33m\u001b[0m\u001b[0m\n\u001b[0m\u001b[0;32m   1040\u001b[0m \u001b[1;33m\u001b[0m\u001b[0m\n\u001b[0;32m   1041\u001b[0m     \u001b[1;32mdef\u001b[0m \u001b[0m__numpy_ufunc__\u001b[0m\u001b[1;33m(\u001b[0m\u001b[0mself\u001b[0m\u001b[1;33m,\u001b[0m \u001b[0mfunc\u001b[0m\u001b[1;33m,\u001b[0m \u001b[0mmethod\u001b[0m\u001b[1;33m,\u001b[0m \u001b[0mpos\u001b[0m\u001b[1;33m,\u001b[0m \u001b[0minputs\u001b[0m\u001b[1;33m,\u001b[0m \u001b[1;33m**\u001b[0m\u001b[0mkwargs\u001b[0m\u001b[1;33m)\u001b[0m\u001b[1;33m:\u001b[0m\u001b[1;33m\u001b[0m\u001b[0m\n",
      "\u001b[1;31mMemoryError\u001b[0m: "
     ]
    }
   ],
   "source": [
    "# bigram\n",
    "vect = CountVectorizer(ngram_range=(2,2), stop_words=stop)\n",
    "X = vect.fit_transform(df_has_review['r_text'])\n",
    "\n",
    "ngram_text = pd.DataFrame(X.toarray(), columns=vect.get_feature_names())\n",
    "\n",
    "ngram_text.sum().sort_values(ascending=False).head(20).plot(kind=\"barh\")"
   ]
  },
  {
   "cell_type": "code",
   "execution_count": null,
   "metadata": {},
   "outputs": [],
   "source": [
    "vect = CountVectorizer(ngram_range=(1,1), stop_words=stop)\n",
    "X = vect.fit_transform(df_has_review['r_text'])\n",
    "\n",
    "ngram_text = pd.DataFrame(X.toarray(), columns=vect.get_feature_names())\n",
    "\n",
    "ngram_text.sum().sort_values(ascending=False).head(20).plot(kind=\"barh\")"
   ]
  }
 ],
 "metadata": {
  "kernelspec": {
   "display_name": "Python 3",
   "language": "python",
   "name": "python3"
  },
  "language_info": {
   "codemirror_mode": {
    "name": "ipython",
    "version": 3
   },
   "file_extension": ".py",
   "mimetype": "text/x-python",
   "name": "python",
   "nbconvert_exporter": "python",
   "pygments_lexer": "ipython3",
   "version": "3.6.3"
  }
 },
 "nbformat": 4,
 "nbformat_minor": 2
}
